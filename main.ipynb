{
 "cells": [
  {
   "cell_type": "code",
   "execution_count": 2,
   "metadata": {},
   "outputs": [],
   "source": [
    "from math import floor\n",
    "import random as rd\n",
    "\n",
    "import classe as cl\n",
    "import combat as cb\n",
    "import arme as ar\n",
    "import monstre as mo\n",
    "import personnage as pj\n",
    "import numpy as np\n",
    "import matplotlib.pyplot as plt"
   ]
  },
  {
   "cell_type": "code",
   "execution_count": 3,
   "metadata": {},
   "outputs": [
    {
     "data": {
      "text/plain": [
       "1"
      ]
     },
     "execution_count": 3,
     "metadata": {},
     "output_type": "execute_result"
    }
   ],
   "source": [
    "rd.randint(0,1)"
   ]
  },
  {
   "cell_type": "code",
   "execution_count": 4,
   "metadata": {},
   "outputs": [],
   "source": [
    "def perso_alea():\n",
    "    i=rd.randint(0,2)\n",
    "    if i==0:\n",
    "        armure = ar.cuir_cloute\n",
    "    else:\n",
    "        armure = ar.crevice\n",
    "    return cl.Personnage(rd.randint(10,20),rd.randint(10,20),rd.randint(10,20),rd.randint(10,20),\\\n",
    "                         PV=rd.randint(10,100),arme3=ar.arc_composite, arme2=ar.epee_courte_dex,\\\n",
    "                            arme1=ar.epee_courte_f,armure=armure,\\\n",
    "                         nom=\"Elrosgarius\", Lvl=4, PO=337, BBA=rd.randint(0,5),\\\n",
    "                        dons=['tir_lointain'])\n",
    "mitaine = cl.Personnage(13,13,13,13,\\\n",
    "                         PV=60,arme3=ar.arc_composite, arme2=ar.epee_courte_dex,\\\n",
    "                            arme1=ar.epee_courte_f,armure=ar.cuir_cloute,\\\n",
    "                         nom=\"Elrosgarius\", Lvl=4, PO=337, BBA=2,\\\n",
    "                        dons=['tir_lointain'])"
   ]
  },
  {
   "cell_type": "code",
   "execution_count": 4,
   "metadata": {},
   "outputs": [
    {
     "ename": "NameError",
     "evalue": "name 'l_perso' is not defined",
     "output_type": "error",
     "traceback": [
      "\u001b[0;31m---------------------------------------------------------------------------\u001b[0m",
      "\u001b[0;31mNameError\u001b[0m                                 Traceback (most recent call last)",
      "\u001b[0;32m<ipython-input-4-c2d673e4eb82>\u001b[0m in \u001b[0;36m<module>\u001b[0;34m\u001b[0m\n\u001b[0;32m----> 1\u001b[0;31m \u001b[0mliperso\u001b[0m\u001b[0;34m=\u001b[0m\u001b[0ml_perso\u001b[0m\u001b[0;34m\u001b[0m\u001b[0;34m\u001b[0m\u001b[0m\n\u001b[0m",
      "\u001b[0;31mNameError\u001b[0m: name 'l_perso' is not defined"
     ]
    }
   ],
   "source": [
    "liperso=l_perso"
   ]
  },
  {
   "cell_type": "code",
   "execution_count": 5,
   "metadata": {},
   "outputs": [],
   "source": [
    "l_perso = []\n",
    "for i in range(0,10):\n",
    "    l_perso.append(perso_alea())"
   ]
  },
  {
   "cell_type": "code",
   "execution_count": null,
   "metadata": {},
   "outputs": [],
   "source": []
  },
  {
   "cell_type": "code",
   "execution_count": 219,
   "metadata": {},
   "outputs": [],
   "source": [
    "import pandas as pd"
   ]
  },
  {
   "cell_type": "code",
   "execution_count": 228,
   "metadata": {},
   "outputs": [],
   "source": [
    "d=pd.DataFrame(x2,columns=['F','Dex','Con','Cst','PV','BBA','Armure'])"
   ]
  },
  {
   "cell_type": "code",
   "execution_count": 229,
   "metadata": {},
   "outputs": [
    {
     "data": {
      "text/html": [
       "<div>\n",
       "<style scoped>\n",
       "    .dataframe tbody tr th:only-of-type {\n",
       "        vertical-align: middle;\n",
       "    }\n",
       "\n",
       "    .dataframe tbody tr th {\n",
       "        vertical-align: top;\n",
       "    }\n",
       "\n",
       "    .dataframe thead th {\n",
       "        text-align: right;\n",
       "    }\n",
       "</style>\n",
       "<table border=\"1\" class=\"dataframe\">\n",
       "  <thead>\n",
       "    <tr style=\"text-align: right;\">\n",
       "      <th></th>\n",
       "      <th>F</th>\n",
       "      <th>Dex</th>\n",
       "      <th>Con</th>\n",
       "      <th>Cst</th>\n",
       "      <th>PV</th>\n",
       "      <th>BBA</th>\n",
       "      <th>Armure</th>\n",
       "    </tr>\n",
       "  </thead>\n",
       "  <tbody>\n",
       "    <tr>\n",
       "      <th>0</th>\n",
       "      <td>19</td>\n",
       "      <td>18</td>\n",
       "      <td>11</td>\n",
       "      <td>15</td>\n",
       "      <td>74</td>\n",
       "      <td>1</td>\n",
       "      <td>2</td>\n",
       "    </tr>\n",
       "    <tr>\n",
       "      <th>1</th>\n",
       "      <td>10</td>\n",
       "      <td>16</td>\n",
       "      <td>18</td>\n",
       "      <td>15</td>\n",
       "      <td>51</td>\n",
       "      <td>0</td>\n",
       "      <td>1</td>\n",
       "    </tr>\n",
       "    <tr>\n",
       "      <th>2</th>\n",
       "      <td>13</td>\n",
       "      <td>18</td>\n",
       "      <td>15</td>\n",
       "      <td>13</td>\n",
       "      <td>75</td>\n",
       "      <td>0</td>\n",
       "      <td>2</td>\n",
       "    </tr>\n",
       "    <tr>\n",
       "      <th>3</th>\n",
       "      <td>16</td>\n",
       "      <td>13</td>\n",
       "      <td>10</td>\n",
       "      <td>20</td>\n",
       "      <td>13</td>\n",
       "      <td>0</td>\n",
       "      <td>1</td>\n",
       "    </tr>\n",
       "    <tr>\n",
       "      <th>4</th>\n",
       "      <td>12</td>\n",
       "      <td>15</td>\n",
       "      <td>18</td>\n",
       "      <td>16</td>\n",
       "      <td>21</td>\n",
       "      <td>1</td>\n",
       "      <td>1</td>\n",
       "    </tr>\n",
       "  </tbody>\n",
       "</table>\n",
       "</div>"
      ],
      "text/plain": [
       "    F  Dex  Con  Cst  PV  BBA  Armure\n",
       "0  19   18   11   15  74    1       2\n",
       "1  10   16   18   15  51    0       1\n",
       "2  13   18   15   13  75    0       2\n",
       "3  16   13   10   20  13    0       1\n",
       "4  12   15   18   16  21    1       1"
      ]
     },
     "execution_count": 229,
     "metadata": {},
     "output_type": "execute_result"
    }
   ],
   "source": [
    "d.head()"
   ]
  },
  {
   "cell_type": "code",
   "execution_count": 230,
   "metadata": {},
   "outputs": [
    {
     "data": {
      "text/plain": [
       "(1000000, 7)"
      ]
     },
     "execution_count": 230,
     "metadata": {},
     "output_type": "execute_result"
    }
   ],
   "source": [
    "d.shape"
   ]
  },
  {
   "cell_type": "code",
   "execution_count": 231,
   "metadata": {},
   "outputs": [],
   "source": [
    "del d['Armure']"
   ]
  },
  {
   "cell_type": "code",
   "execution_count": 232,
   "metadata": {},
   "outputs": [],
   "source": [
    "d.insert(6,'Armure',aar)"
   ]
  },
  {
   "cell_type": "code",
   "execution_count": 233,
   "metadata": {},
   "outputs": [],
   "source": [
    "d.insert(7,'Victoires', y[:,0])\n",
    "#d.insert(7,'Defaites', y[:,1])"
   ]
  },
  {
   "cell_type": "code",
   "execution_count": 234,
   "metadata": {},
   "outputs": [
    {
     "data": {
      "text/html": [
       "<div>\n",
       "<style scoped>\n",
       "    .dataframe tbody tr th:only-of-type {\n",
       "        vertical-align: middle;\n",
       "    }\n",
       "\n",
       "    .dataframe tbody tr th {\n",
       "        vertical-align: top;\n",
       "    }\n",
       "\n",
       "    .dataframe thead th {\n",
       "        text-align: right;\n",
       "    }\n",
       "</style>\n",
       "<table border=\"1\" class=\"dataframe\">\n",
       "  <thead>\n",
       "    <tr style=\"text-align: right;\">\n",
       "      <th></th>\n",
       "      <th>F</th>\n",
       "      <th>Dex</th>\n",
       "      <th>Con</th>\n",
       "      <th>Cst</th>\n",
       "      <th>PV</th>\n",
       "      <th>BBA</th>\n",
       "      <th>Armure</th>\n",
       "      <th>Victoires</th>\n",
       "    </tr>\n",
       "  </thead>\n",
       "  <tbody>\n",
       "    <tr>\n",
       "      <th>0</th>\n",
       "      <td>19</td>\n",
       "      <td>18</td>\n",
       "      <td>11</td>\n",
       "      <td>15</td>\n",
       "      <td>74</td>\n",
       "      <td>1</td>\n",
       "      <td>cuir</td>\n",
       "      <td>1</td>\n",
       "    </tr>\n",
       "    <tr>\n",
       "      <th>1</th>\n",
       "      <td>10</td>\n",
       "      <td>16</td>\n",
       "      <td>18</td>\n",
       "      <td>15</td>\n",
       "      <td>51</td>\n",
       "      <td>0</td>\n",
       "      <td>crevice</td>\n",
       "      <td>0</td>\n",
       "    </tr>\n",
       "    <tr>\n",
       "      <th>2</th>\n",
       "      <td>13</td>\n",
       "      <td>18</td>\n",
       "      <td>15</td>\n",
       "      <td>13</td>\n",
       "      <td>75</td>\n",
       "      <td>0</td>\n",
       "      <td>cuir</td>\n",
       "      <td>1</td>\n",
       "    </tr>\n",
       "    <tr>\n",
       "      <th>3</th>\n",
       "      <td>16</td>\n",
       "      <td>13</td>\n",
       "      <td>10</td>\n",
       "      <td>20</td>\n",
       "      <td>13</td>\n",
       "      <td>0</td>\n",
       "      <td>crevice</td>\n",
       "      <td>0</td>\n",
       "    </tr>\n",
       "    <tr>\n",
       "      <th>4</th>\n",
       "      <td>12</td>\n",
       "      <td>15</td>\n",
       "      <td>18</td>\n",
       "      <td>16</td>\n",
       "      <td>21</td>\n",
       "      <td>1</td>\n",
       "      <td>crevice</td>\n",
       "      <td>0</td>\n",
       "    </tr>\n",
       "    <tr>\n",
       "      <th>5</th>\n",
       "      <td>15</td>\n",
       "      <td>12</td>\n",
       "      <td>18</td>\n",
       "      <td>10</td>\n",
       "      <td>68</td>\n",
       "      <td>3</td>\n",
       "      <td>cuir</td>\n",
       "      <td>1</td>\n",
       "    </tr>\n",
       "    <tr>\n",
       "      <th>6</th>\n",
       "      <td>16</td>\n",
       "      <td>10</td>\n",
       "      <td>10</td>\n",
       "      <td>17</td>\n",
       "      <td>76</td>\n",
       "      <td>4</td>\n",
       "      <td>crevice</td>\n",
       "      <td>1</td>\n",
       "    </tr>\n",
       "    <tr>\n",
       "      <th>7</th>\n",
       "      <td>10</td>\n",
       "      <td>14</td>\n",
       "      <td>17</td>\n",
       "      <td>12</td>\n",
       "      <td>74</td>\n",
       "      <td>4</td>\n",
       "      <td>crevice</td>\n",
       "      <td>1</td>\n",
       "    </tr>\n",
       "    <tr>\n",
       "      <th>8</th>\n",
       "      <td>20</td>\n",
       "      <td>13</td>\n",
       "      <td>10</td>\n",
       "      <td>13</td>\n",
       "      <td>81</td>\n",
       "      <td>1</td>\n",
       "      <td>cuir</td>\n",
       "      <td>1</td>\n",
       "    </tr>\n",
       "    <tr>\n",
       "      <th>9</th>\n",
       "      <td>10</td>\n",
       "      <td>18</td>\n",
       "      <td>20</td>\n",
       "      <td>19</td>\n",
       "      <td>38</td>\n",
       "      <td>2</td>\n",
       "      <td>cuir</td>\n",
       "      <td>0</td>\n",
       "    </tr>\n",
       "    <tr>\n",
       "      <th>10</th>\n",
       "      <td>11</td>\n",
       "      <td>16</td>\n",
       "      <td>16</td>\n",
       "      <td>15</td>\n",
       "      <td>100</td>\n",
       "      <td>4</td>\n",
       "      <td>crevice</td>\n",
       "      <td>1</td>\n",
       "    </tr>\n",
       "    <tr>\n",
       "      <th>11</th>\n",
       "      <td>19</td>\n",
       "      <td>10</td>\n",
       "      <td>15</td>\n",
       "      <td>17</td>\n",
       "      <td>45</td>\n",
       "      <td>2</td>\n",
       "      <td>crevice</td>\n",
       "      <td>1</td>\n",
       "    </tr>\n",
       "    <tr>\n",
       "      <th>12</th>\n",
       "      <td>11</td>\n",
       "      <td>18</td>\n",
       "      <td>11</td>\n",
       "      <td>18</td>\n",
       "      <td>25</td>\n",
       "      <td>4</td>\n",
       "      <td>crevice</td>\n",
       "      <td>0</td>\n",
       "    </tr>\n",
       "    <tr>\n",
       "      <th>13</th>\n",
       "      <td>16</td>\n",
       "      <td>20</td>\n",
       "      <td>18</td>\n",
       "      <td>16</td>\n",
       "      <td>42</td>\n",
       "      <td>5</td>\n",
       "      <td>crevice</td>\n",
       "      <td>1</td>\n",
       "    </tr>\n",
       "    <tr>\n",
       "      <th>14</th>\n",
       "      <td>11</td>\n",
       "      <td>15</td>\n",
       "      <td>17</td>\n",
       "      <td>19</td>\n",
       "      <td>55</td>\n",
       "      <td>0</td>\n",
       "      <td>cuir</td>\n",
       "      <td>0</td>\n",
       "    </tr>\n",
       "    <tr>\n",
       "      <th>15</th>\n",
       "      <td>14</td>\n",
       "      <td>19</td>\n",
       "      <td>12</td>\n",
       "      <td>16</td>\n",
       "      <td>17</td>\n",
       "      <td>1</td>\n",
       "      <td>crevice</td>\n",
       "      <td>1</td>\n",
       "    </tr>\n",
       "    <tr>\n",
       "      <th>16</th>\n",
       "      <td>19</td>\n",
       "      <td>17</td>\n",
       "      <td>14</td>\n",
       "      <td>10</td>\n",
       "      <td>91</td>\n",
       "      <td>1</td>\n",
       "      <td>crevice</td>\n",
       "      <td>1</td>\n",
       "    </tr>\n",
       "    <tr>\n",
       "      <th>17</th>\n",
       "      <td>13</td>\n",
       "      <td>17</td>\n",
       "      <td>17</td>\n",
       "      <td>17</td>\n",
       "      <td>90</td>\n",
       "      <td>3</td>\n",
       "      <td>crevice</td>\n",
       "      <td>1</td>\n",
       "    </tr>\n",
       "    <tr>\n",
       "      <th>18</th>\n",
       "      <td>10</td>\n",
       "      <td>17</td>\n",
       "      <td>12</td>\n",
       "      <td>20</td>\n",
       "      <td>34</td>\n",
       "      <td>0</td>\n",
       "      <td>crevice</td>\n",
       "      <td>0</td>\n",
       "    </tr>\n",
       "    <tr>\n",
       "      <th>19</th>\n",
       "      <td>11</td>\n",
       "      <td>18</td>\n",
       "      <td>11</td>\n",
       "      <td>13</td>\n",
       "      <td>20</td>\n",
       "      <td>4</td>\n",
       "      <td>crevice</td>\n",
       "      <td>1</td>\n",
       "    </tr>\n",
       "  </tbody>\n",
       "</table>\n",
       "</div>"
      ],
      "text/plain": [
       "     F  Dex  Con  Cst   PV  BBA   Armure  Victoires\n",
       "0   19   18   11   15   74    1     cuir          1\n",
       "1   10   16   18   15   51    0  crevice          0\n",
       "2   13   18   15   13   75    0     cuir          1\n",
       "3   16   13   10   20   13    0  crevice          0\n",
       "4   12   15   18   16   21    1  crevice          0\n",
       "5   15   12   18   10   68    3     cuir          1\n",
       "6   16   10   10   17   76    4  crevice          1\n",
       "7   10   14   17   12   74    4  crevice          1\n",
       "8   20   13   10   13   81    1     cuir          1\n",
       "9   10   18   20   19   38    2     cuir          0\n",
       "10  11   16   16   15  100    4  crevice          1\n",
       "11  19   10   15   17   45    2  crevice          1\n",
       "12  11   18   11   18   25    4  crevice          0\n",
       "13  16   20   18   16   42    5  crevice          1\n",
       "14  11   15   17   19   55    0     cuir          0\n",
       "15  14   19   12   16   17    1  crevice          1\n",
       "16  19   17   14   10   91    1  crevice          1\n",
       "17  13   17   17   17   90    3  crevice          1\n",
       "18  10   17   12   20   34    0  crevice          0\n",
       "19  11   18   11   13   20    4  crevice          1"
      ]
     },
     "execution_count": 234,
     "metadata": {},
     "output_type": "execute_result"
    }
   ],
   "source": [
    "d.head(20)"
   ]
  },
  {
   "cell_type": "code",
   "execution_count": 237,
   "metadata": {},
   "outputs": [],
   "source": [
    "d.to_excel('data_bin_rpg.xlsx')"
   ]
  },
  {
   "cell_type": "code",
   "execution_count": 22,
   "metadata": {},
   "outputs": [],
   "source": [
    "\n",
    "def  Y(n=10):\n",
    "    \n",
    "    y=[]\n",
    "    for p in l_perso:\n",
    "        \n",
    "        v=int(n*(cb.monte_carlo_combat(n,p,mitaine,a1=[1],a2=[1],duree=False)))\n",
    "        y.append(np.array([v,n-v]))\n",
    "    return np.array(y)"
   ]
  },
  {
   "cell_type": "code",
   "execution_count": 23,
   "metadata": {},
   "outputs": [],
   "source": [
    "y=Y()"
   ]
  },
  {
   "cell_type": "code",
   "execution_count": 24,
   "metadata": {},
   "outputs": [
    {
     "data": {
      "text/plain": [
       "array([[10,  0],\n",
       "       [ 7,  3],\n",
       "       [ 9,  1],\n",
       "       [10,  0],\n",
       "       [10,  0],\n",
       "       [ 8,  2],\n",
       "       [ 1,  9],\n",
       "       [ 6,  4],\n",
       "       [ 5,  5],\n",
       "       [10,  0]])"
      ]
     },
     "execution_count": 24,
     "metadata": {},
     "output_type": "execute_result"
    }
   ],
   "source": [
    "y"
   ]
  },
  {
   "cell_type": "code",
   "execution_count": 11,
   "metadata": {},
   "outputs": [
    {
     "data": {
      "text/plain": [
       "7303.31"
      ]
     },
     "execution_count": 11,
     "metadata": {},
     "output_type": "execute_result"
    }
   ],
   "source": [
    "sum(y[:,0])/100"
   ]
  },
  {
   "cell_type": "code",
   "execution_count": 14,
   "metadata": {},
   "outputs": [
    {
     "data": {
      "text/plain": [
       "[<matplotlib.lines.Line2D at 0x7f427f3b9e10>,\n",
       " <matplotlib.lines.Line2D at 0x7f427a99d1d0>]"
      ]
     },
     "execution_count": 14,
     "metadata": {},
     "output_type": "execute_result"
    },
    {
     "data": {
      "image/png": "[encoded data removed]",
      "text/plain": [
       "<Figure size 432x288 with 1 Axes>"
      ]
     },
     "metadata": {
      "needs_background": "light"
     },
     "output_type": "display_data"
    }
   ],
   "source": [
    "plt.plot(y)"
   ]
  },
  {
   "cell_type": "code",
   "execution_count": 225,
   "metadata": {},
   "outputs": [],
   "source": [
    "def Xa():\n",
    "    x=[]\n",
    "    for p in l_perso:\n",
    "        if p.armure.nom=='crevice':\n",
    "            aa=1\n",
    "        else:\n",
    "            aa=2\n",
    "        x.append(np.array([int(p.F), int(p.Dex), int(p.Con), int(p.Cst), int(p.PV), p.BBA,aa]))#,\\\n",
    "                           #int(p.BBA),p.armure.nom]))\n",
    "    return np.array(x)"
   ]
  },
  {
   "cell_type": "code",
   "execution_count": 226,
   "metadata": {},
   "outputs": [],
   "source": [
    "def ar():\n",
    "    a = []\n",
    "    for p in l_perso:\n",
    "        if p.armure.nom == 'cuir clouté':\n",
    "            a.append('cuir')\n",
    "        else:\n",
    "            a.append(p.armure.nom)\n",
    "    return a\n",
    "aar=ar()"
   ]
  },
  {
   "cell_type": "code",
   "execution_count": 213,
   "metadata": {},
   "outputs": [],
   "source": [
    "#aar"
   ]
  },
  {
   "cell_type": "code",
   "execution_count": 238,
   "metadata": {},
   "outputs": [],
   "source": [
    "x2 = Xa()"
   ]
  },
  {
   "cell_type": "code",
   "execution_count": 183,
   "metadata": {},
   "outputs": [
    {
     "data": {
      "text/plain": [
       "7"
      ]
     },
     "execution_count": 183,
     "metadata": {},
     "output_type": "execute_result"
    }
   ],
   "source": [
    "len(x2[0])"
   ]
  },
  {
   "cell_type": "code",
   "execution_count": 81,
   "metadata": {},
   "outputs": [
    {
     "data": {
      "text/plain": [
       "numpy.int64"
      ]
     },
     "execution_count": 81,
     "metadata": {},
     "output_type": "execute_result"
    }
   ],
   "source": [
    "type(x2[0,0])"
   ]
  },
  {
   "cell_type": "code",
   "execution_count": 239,
   "metadata": {},
   "outputs": [],
   "source": [
    "x=[]\n",
    "for i in range(0,len(x2)):\n",
    "    l=[]\n",
    "    for j in range(0,len(x2[0])):\n",
    "        l.append(x2[i][j])\n",
    "    x.append(np.array(l))\n",
    "x=np.array(x)\n",
    "        "
   ]
  },
  {
   "cell_type": "code",
   "execution_count": 240,
   "metadata": {},
   "outputs": [
    {
     "data": {
      "text/plain": [
       "array([[19, 74,  1,  2],\n",
       "       [10, 51,  0,  1],\n",
       "       [13, 75,  0,  2],\n",
       "       ...,\n",
       "       [11, 73,  1,  1],\n",
       "       [15, 34,  1,  2],\n",
       "       [16, 21,  5,  1]])"
      ]
     },
     "execution_count": 240,
     "metadata": {},
     "output_type": "execute_result"
    }
   ],
   "source": [
    "c=[0,1,2,3,4,5,6]\n",
    "c=[0,4,5,6]\n",
    "x[:,c]"
   ]
  },
  {
   "cell_type": "code",
   "execution_count": 169,
   "metadata": {},
   "outputs": [],
   "source": [
    "X_data=x[:,c]\n",
    "Y_data = y"
   ]
  },
  {
   "cell_type": "code",
   "execution_count": 170,
   "metadata": {},
   "outputs": [
    {
     "data": {
      "text/plain": [
       "numpy.int64"
      ]
     },
     "execution_count": 170,
     "metadata": {},
     "output_type": "execute_result"
    }
   ],
   "source": [
    "type(X_app[0][0])"
   ]
  },
  {
   "cell_type": "code",
   "execution_count": 241,
   "metadata": {},
   "outputs": [],
   "source": [
    "#utilisation du module model_selection de scikit-learn (sklearn)\n",
    "from sklearn import model_selection\n",
    "#subdivision des données – éch.test = 300 ; éch.app = 768 – éch.test = 468\n",
    "X_app,X_test,y_app,y_test = model_selection.train_test_split(x[:,c],y,test_size = 10000,random_state=0)"
   ]
  },
  {
   "cell_type": "code",
   "execution_count": 172,
   "metadata": {},
   "outputs": [
    {
     "data": {
      "text/plain": [
       "array([[11, 78,  4,  1],\n",
       "       [18, 97,  2,  1],\n",
       "       [11, 58,  4,  1],\n",
       "       [11, 14,  4,  2],\n",
       "       [16, 45,  2,  2],\n",
       "       [12, 77,  2,  2],\n",
       "       [14, 92,  2,  1],\n",
       "       [19, 56,  1,  2],\n",
       "       [19, 17,  3,  1],\n",
       "       [11, 80,  2,  1]])"
      ]
     },
     "execution_count": 172,
     "metadata": {},
     "output_type": "execute_result"
    }
   ],
   "source": [
    "X_app[:10]"
   ]
  },
  {
   "cell_type": "code",
   "execution_count": 242,
   "metadata": {},
   "outputs": [
    {
     "name": "stdout",
     "output_type": "stream",
     "text": [
      "                 Generalized Linear Model Regression Results                  \n",
      "==============================================================================\n",
      "Dep. Variable:           ['y1', 'y2']   No. Observations:               990000\n",
      "Model:                            GLM   Df Residuals:                   989995\n",
      "Model Family:                Binomial   Df Model:                            4\n",
      "Link Function:                  logit   Scale:                          1.0000\n",
      "Method:                          IRLS   Log-Likelihood:            -2.9565e+05\n",
      "Date:                Wed, 10 Feb 2021   Deviance:                   5.9130e+05\n",
      "Time:                        01:39:11   Pearson chi2:                 7.68e+05\n",
      "No. Iterations:                     7                                         \n",
      "Covariance Type:            nonrobust                                         \n",
      "==============================================================================\n",
      "                 coef    std err          z      P>|z|      [0.025      0.975]\n",
      "------------------------------------------------------------------------------\n",
      "const         -8.9787      0.026   -351.620      0.000      -9.029      -8.929\n",
      "x1             0.4492      0.001    343.910      0.000       0.447       0.452\n",
      "x2             0.0913      0.000    440.491      0.000       0.091       0.092\n",
      "x3             0.3811      0.002    186.828      0.000       0.377       0.385\n",
      "x4            -1.1176      0.007   -158.431      0.000      -1.131      -1.104\n",
      "==============================================================================\n"
     ]
    }
   ],
   "source": [
    "import statsmodels.api as sm\n",
    "\n",
    "data = X_app\n",
    "\n",
    "data = sm.add_constant(data)\n",
    "\n",
    "# Instantiate a gamma family model with the default link function.\n",
    "model = sm.GLM(y_app, data, family=sm.families.Binomial())\n",
    "\n",
    "results = model.fit()\n",
    "\n",
    "print(results.summary())"
   ]
  },
  {
   "cell_type": "code",
   "execution_count": 243,
   "metadata": {},
   "outputs": [
    {
     "data": {
      "text/plain": [
       "((10000, 4), (990000, 4), (990000, 2), (10000, 2))"
      ]
     },
     "execution_count": 243,
     "metadata": {},
     "output_type": "execute_result"
    }
   ],
   "source": [
    "X_test.shape, X_app.shape, y_app.shape, y_test.shape"
   ]
  },
  {
   "cell_type": "code",
   "execution_count": 244,
   "metadata": {},
   "outputs": [],
   "source": [
    "r_t=results.predict(sm.add_constant(X_test))"
   ]
  },
  {
   "cell_type": "code",
   "execution_count": 245,
   "metadata": {},
   "outputs": [
    {
     "data": {
      "text/plain": [
       "[<matplotlib.lines.Line2D at 0x7f426a373a20>]"
      ]
     },
     "execution_count": 245,
     "metadata": {},
     "output_type": "execute_result"
    },
    {
     "data": {
      "image/png": "[encoded data removed]",
      "text/plain": [
       "<Figure size 432x288 with 1 Axes>"
      ]
     },
     "metadata": {
      "needs_background": "light"
     },
     "output_type": "display_data"
    }
   ],
   "source": [
    "plt.plot(y_test[:,0], r_t, 'bo')\n",
    "plt.plot(y_test[:,0], y_test[:,0]/100, 'r')"
   ]
  },
  {
   "cell_type": "code",
   "execution_count": 246,
   "metadata": {},
   "outputs": [],
   "source": [
    "from scipy import stats\n",
    "import scipy as sc\n",
    "v_test = y_test[:,0]\n",
    "VD=r_t\n",
    "res = sc.stats.linregress(v_test,VD)\n",
    "R2 = round(res.rvalue**2*1000)/1000"
   ]
  },
  {
   "cell_type": "code",
   "execution_count": 247,
   "metadata": {},
   "outputs": [
    {
     "data": {
      "text/plain": [
       "0.499"
      ]
     },
     "execution_count": 247,
     "metadata": {},
     "output_type": "execute_result"
    }
   ],
   "source": [
    "R2"
   ]
  },
  {
   "cell_type": "code",
   "execution_count": 249,
   "metadata": {},
   "outputs": [],
   "source": [
    "from sklearn.linear_model import LogisticRegression\n",
    "\n",
    "#création d'une instance de la classe\n",
    "lr = LogisticRegression(solver=\"liblinear\")\n",
    "#exécution de l'instance sur les données d'apprentissage\n",
    "#c.à-d. construction du modèle prédictif\n",
    "modele = lr.fit(X_app,y_app[:,0])"
   ]
  },
  {
   "cell_type": "code",
   "execution_count": 463,
   "metadata": {},
   "outputs": [
    {
     "data": {
      "text/plain": [
       "array([[ 0.82228843,  0.50958197, -0.01324452, -0.01303189,  0.2622313 ,\n",
       "         0.73227005]])"
      ]
     },
     "execution_count": 463,
     "metadata": {},
     "output_type": "execute_result"
    }
   ],
   "source": [
    "modele.coef_"
   ]
  },
  {
   "cell_type": "code",
   "execution_count": 253,
   "metadata": {},
   "outputs": [
    {
     "name": "stdout",
     "output_type": "stream",
     "text": [
      "[[1812  805]\n",
      " [ 581 6802]]\n",
      "0.8614\n",
      "0.13859999999999995\n"
     ]
    }
   ],
   "source": [
    "y_pred = modele.predict(X_test)\n",
    "#importation de metrics - utilisé pour les mesures de performances\n",
    "from sklearn import metrics\n",
    "#matrice de confusion\n",
    "#confrontation entre Y obs. sur l’éch. test et la prédiction\n",
    "cm = metrics.confusion_matrix(y_test[:,0],y_pred)\n",
    "print(cm)\n",
    "\n",
    "#taux de succès\n",
    "acc = metrics.accuracy_score(y_test[:,0],y_pred)\n",
    "print(acc) # 0.793 = (184 + 54)/ (184 + 17 + 45 + 54)\n",
    "#taux d'erreur\n",
    "err = 1.0 - acc\n",
    "print(err) # 0.20"
   ]
  },
  {
   "cell_type": "code",
   "execution_count": 255,
   "metadata": {},
   "outputs": [
    {
     "name": "stdout",
     "output_type": "stream",
     "text": [
      "0.9213057022890424\n"
     ]
    }
   ],
   "source": [
    "#sensibilité (ou rappel)\n",
    "se = metrics.recall_score(y_test[:,0],y_pred)#,pos_label='positive')\n",
    "print(se) # 0.545 = 54 / (45+ 54)"
   ]
  },
  {
   "cell_type": "code",
   "execution_count": 256,
   "metadata": {},
   "outputs": [],
   "source": [
    "probas = lr.predict_proba(X_test)"
   ]
  },
  {
   "cell_type": "code",
   "execution_count": 257,
   "metadata": {},
   "outputs": [
    {
     "data": {
      "text/plain": [
       "array([[0.33568556, 0.66431444],\n",
       "       [0.10434774, 0.89565226],\n",
       "       [0.44300212, 0.55699788],\n",
       "       [0.0188655 , 0.9811345 ],\n",
       "       [0.03974187, 0.96025813],\n",
       "       [0.00302601, 0.99697399],\n",
       "       [0.90781973, 0.09218027],\n",
       "       [0.00117954, 0.99882046],\n",
       "       [0.03564631, 0.96435369],\n",
       "       [0.97181943, 0.02818057]])"
      ]
     },
     "execution_count": 257,
     "metadata": {},
     "output_type": "execute_result"
    }
   ],
   "source": [
    "probas[:10]"
   ]
  },
  {
   "cell_type": "code",
   "execution_count": 448,
   "metadata": {},
   "outputs": [],
   "source": [
    "#importer la classe LogisticRegression\n",
    "from sklearn.linear_model import LogisticRegression\n",
    "#création d'une instance de la classe\n",
    "lr = LogisticRegression(solver=\"liblinear\")\n",
    "#algorithme de sélection de var.\n",
    "from sklearn.feature_selection import RFE\n",
    "selecteur = RFE(estimator=lr)\n",
    "#lancer la recherche\n",
    "sol = selecteur.fit(X_app,y_app)"
   ]
  },
  {
   "cell_type": "code",
   "execution_count": 449,
   "metadata": {},
   "outputs": [
    {
     "name": "stdout",
     "output_type": "stream",
     "text": [
      "3\n",
      "[ True  True False False False  True]\n"
     ]
    }
   ],
   "source": [
    "#nombre de var. sélectionnées\n",
    "print(sol.n_features_) # 4 → 4 = 8 / 2 variables sélectionnées\n",
    "#liste des variables sélectionnées\n",
    "print(sol.support_) # [True False False True True False True False ]"
   ]
  },
  {
   "cell_type": "code",
   "execution_count": 450,
   "metadata": {},
   "outputs": [
    {
     "name": "stdout",
     "output_type": "stream",
     "text": [
      "[1 1 4 3 2 1]\n"
     ]
    }
   ],
   "source": [
    "print(sol.ranking_)"
   ]
  },
  {
   "cell_type": "code",
   "execution_count": 451,
   "metadata": {},
   "outputs": [],
   "source": [
    "sol.support_[4]=True"
   ]
  },
  {
   "cell_type": "code",
   "execution_count": 452,
   "metadata": {},
   "outputs": [
    {
     "name": "stdout",
     "output_type": "stream",
     "text": [
      "(90000, 4)\n",
      "(10000, 4)\n",
      "0.7985\n"
     ]
    }
   ],
   "source": [
    "#réduction de la base d'app. aux var. sélectionnées\n",
    "#en utilisant le filtre booléen sol.support_\n",
    "X_new_app = X_app[:,sol.support_]\n",
    "print(X_new_app.shape) # (468, 4) → 4 variables restantes\n",
    "#construction du modèle sur les explicatives sélectionnées\n",
    "modele_sel = lr.fit(X_new_app,y_app)\n",
    "#réduction de la base test aux mêmes variables\n",
    "X_new_test = X_test[:,sol.support_]\n",
    "print(X_new_test.shape) # (300, 4)\n",
    "#prédiction du modèle réduit sur l’éch. test\n",
    "y_pred_sel = modele_sel.predict(X_new_test)\n",
    "#évaluation\n",
    "print(metrics.accuracy_score(y_test,y_pred_sel))"
   ]
  },
  {
   "cell_type": "code",
   "execution_count": null,
   "metadata": {},
   "outputs": [],
   "source": []
  },
  {
   "cell_type": "code",
   "execution_count": null,
   "metadata": {},
   "outputs": [],
   "source": []
  },
  {
   "cell_type": "code",
   "execution_count": 484,
   "metadata": {},
   "outputs": [],
   "source": [
    "from scipy import stats\n",
    "import scipy as sc"
   ]
  },
  {
   "cell_type": "code",
   "execution_count": 317,
   "metadata": {},
   "outputs": [],
   "source": [
    "X=x[:,6]"
   ]
  },
  {
   "cell_type": "code",
   "execution_count": 318,
   "metadata": {},
   "outputs": [
    {
     "data": {
      "text/plain": [
       "array([0., 0., 1., ..., 1., 1., 0.])"
      ]
     },
     "execution_count": 318,
     "metadata": {},
     "output_type": "execute_result"
    }
   ],
   "source": [
    "X"
   ]
  },
  {
   "cell_type": "code",
   "execution_count": 297,
   "metadata": {},
   "outputs": [],
   "source": [
    "v_test = x[:,1]\n",
    "VD = y\n",
    "res = sc.stats.linregress(v_test,VD)\n",
    "R2 = round(res.rvalue**2*1000)/1000"
   ]
  },
  {
   "cell_type": "code",
   "execution_count": 298,
   "metadata": {},
   "outputs": [
    {
     "data": {
      "image/png": "[encoded data removed]",
      "text/plain": [
       "<Figure size 432x288 with 1 Axes>"
      ]
     },
     "metadata": {
      "needs_background": "light"
     },
     "output_type": "display_data"
    }
   ],
   "source": [
    "plt.plot(v_test, VD, 'o', label='original data')\n",
    "plt.plot(v_test, res.intercept + res.slope*np.array(v_test), 'r', label='fitted line')\n",
    "plt.plot([], [], ' ', label=\"R2=\"+str(R2))\n",
    "plt.legend(loc=1)\n",
    "plt.xlabel('F')\n",
    "plt.ylabel('Vict')\n",
    "plt.title(\"VD en fonction de \"+'Vist')\n",
    "plt.show()"
   ]
  },
  {
   "cell_type": "code",
   "execution_count": 299,
   "metadata": {},
   "outputs": [],
   "source": [
    "import pandas as pd\n",
    "d = pd.DataFrame(x, columns=['F','Dex','Con','Cst','PV','BBA','V'])"
   ]
  },
  {
   "cell_type": "code",
   "execution_count": 300,
   "metadata": {},
   "outputs": [
    {
     "data": {
      "text/html": [
       "<div>\n",
       "<style scoped>\n",
       "    .dataframe tbody tr th:only-of-type {\n",
       "        vertical-align: middle;\n",
       "    }\n",
       "\n",
       "    .dataframe tbody tr th {\n",
       "        vertical-align: top;\n",
       "    }\n",
       "\n",
       "    .dataframe thead th {\n",
       "        text-align: right;\n",
       "    }\n",
       "</style>\n",
       "<table border=\"1\" class=\"dataframe\">\n",
       "  <thead>\n",
       "    <tr style=\"text-align: right;\">\n",
       "      <th></th>\n",
       "      <th>F</th>\n",
       "      <th>Dex</th>\n",
       "      <th>Con</th>\n",
       "      <th>Cst</th>\n",
       "      <th>PV</th>\n",
       "      <th>BBA</th>\n",
       "      <th>V</th>\n",
       "    </tr>\n",
       "  </thead>\n",
       "  <tbody>\n",
       "    <tr>\n",
       "      <th>0</th>\n",
       "      <td>20.0</td>\n",
       "      <td>20.0</td>\n",
       "      <td>16.0</td>\n",
       "      <td>19.0</td>\n",
       "      <td>13.0</td>\n",
       "      <td>3.0</td>\n",
       "      <td>1.0</td>\n",
       "    </tr>\n",
       "    <tr>\n",
       "      <th>1</th>\n",
       "      <td>16.0</td>\n",
       "      <td>14.0</td>\n",
       "      <td>13.0</td>\n",
       "      <td>16.0</td>\n",
       "      <td>13.0</td>\n",
       "      <td>0.0</td>\n",
       "      <td>0.0</td>\n",
       "    </tr>\n",
       "    <tr>\n",
       "      <th>2</th>\n",
       "      <td>12.0</td>\n",
       "      <td>16.0</td>\n",
       "      <td>12.0</td>\n",
       "      <td>12.0</td>\n",
       "      <td>53.0</td>\n",
       "      <td>1.0</td>\n",
       "      <td>1.0</td>\n",
       "    </tr>\n",
       "    <tr>\n",
       "      <th>3</th>\n",
       "      <td>12.0</td>\n",
       "      <td>19.0</td>\n",
       "      <td>19.0</td>\n",
       "      <td>19.0</td>\n",
       "      <td>47.0</td>\n",
       "      <td>3.0</td>\n",
       "      <td>1.0</td>\n",
       "    </tr>\n",
       "    <tr>\n",
       "      <th>4</th>\n",
       "      <td>12.0</td>\n",
       "      <td>19.0</td>\n",
       "      <td>17.0</td>\n",
       "      <td>10.0</td>\n",
       "      <td>34.0</td>\n",
       "      <td>5.0</td>\n",
       "      <td>1.0</td>\n",
       "    </tr>\n",
       "  </tbody>\n",
       "</table>\n",
       "</div>"
      ],
      "text/plain": [
       "      F   Dex   Con   Cst    PV  BBA    V\n",
       "0  20.0  20.0  16.0  19.0  13.0  3.0  1.0\n",
       "1  16.0  14.0  13.0  16.0  13.0  0.0  0.0\n",
       "2  12.0  16.0  12.0  12.0  53.0  1.0  1.0\n",
       "3  12.0  19.0  19.0  19.0  47.0  3.0  1.0\n",
       "4  12.0  19.0  17.0  10.0  34.0  5.0  1.0"
      ]
     },
     "execution_count": 300,
     "metadata": {},
     "output_type": "execute_result"
    }
   ],
   "source": [
    "d.head()"
   ]
  },
  {
   "cell_type": "code",
   "execution_count": 301,
   "metadata": {},
   "outputs": [
    {
     "data": {
      "text/html": [
       "<div>\n",
       "<style scoped>\n",
       "    .dataframe tbody tr th:only-of-type {\n",
       "        vertical-align: middle;\n",
       "    }\n",
       "\n",
       "    .dataframe tbody tr th {\n",
       "        vertical-align: top;\n",
       "    }\n",
       "\n",
       "    .dataframe thead th {\n",
       "        text-align: right;\n",
       "    }\n",
       "</style>\n",
       "<table border=\"1\" class=\"dataframe\">\n",
       "  <thead>\n",
       "    <tr style=\"text-align: right;\">\n",
       "      <th></th>\n",
       "      <th>F</th>\n",
       "      <th>Dex</th>\n",
       "      <th>Con</th>\n",
       "      <th>Cst</th>\n",
       "      <th>PV</th>\n",
       "      <th>BBA</th>\n",
       "      <th>V</th>\n",
       "    </tr>\n",
       "  </thead>\n",
       "  <tbody>\n",
       "    <tr>\n",
       "      <th>F</th>\n",
       "      <td>1.000000</td>\n",
       "      <td>-0.007676</td>\n",
       "      <td>-0.020196</td>\n",
       "      <td>-0.007428</td>\n",
       "      <td>-0.010285</td>\n",
       "      <td>0.002161</td>\n",
       "      <td>0.277130</td>\n",
       "    </tr>\n",
       "    <tr>\n",
       "      <th>Dex</th>\n",
       "      <td>-0.007676</td>\n",
       "      <td>1.000000</td>\n",
       "      <td>0.002267</td>\n",
       "      <td>0.006253</td>\n",
       "      <td>-0.012259</td>\n",
       "      <td>0.002618</td>\n",
       "      <td>0.113156</td>\n",
       "    </tr>\n",
       "    <tr>\n",
       "      <th>Con</th>\n",
       "      <td>-0.020196</td>\n",
       "      <td>0.002267</td>\n",
       "      <td>1.000000</td>\n",
       "      <td>0.005446</td>\n",
       "      <td>0.002185</td>\n",
       "      <td>-0.001167</td>\n",
       "      <td>0.002218</td>\n",
       "    </tr>\n",
       "    <tr>\n",
       "      <th>Cst</th>\n",
       "      <td>-0.007428</td>\n",
       "      <td>0.006253</td>\n",
       "      <td>0.005446</td>\n",
       "      <td>1.000000</td>\n",
       "      <td>-0.008209</td>\n",
       "      <td>0.003429</td>\n",
       "      <td>-0.021012</td>\n",
       "    </tr>\n",
       "    <tr>\n",
       "      <th>PV</th>\n",
       "      <td>-0.010285</td>\n",
       "      <td>-0.012259</td>\n",
       "      <td>0.002185</td>\n",
       "      <td>-0.008209</td>\n",
       "      <td>1.000000</td>\n",
       "      <td>-0.002913</td>\n",
       "      <td>0.558307</td>\n",
       "    </tr>\n",
       "    <tr>\n",
       "      <th>BBA</th>\n",
       "      <td>0.002161</td>\n",
       "      <td>0.002618</td>\n",
       "      <td>-0.001167</td>\n",
       "      <td>0.003429</td>\n",
       "      <td>-0.002913</td>\n",
       "      <td>1.000000</td>\n",
       "      <td>0.136038</td>\n",
       "    </tr>\n",
       "    <tr>\n",
       "      <th>V</th>\n",
       "      <td>0.277130</td>\n",
       "      <td>0.113156</td>\n",
       "      <td>0.002218</td>\n",
       "      <td>-0.021012</td>\n",
       "      <td>0.558307</td>\n",
       "      <td>0.136038</td>\n",
       "      <td>1.000000</td>\n",
       "    </tr>\n",
       "  </tbody>\n",
       "</table>\n",
       "</div>"
      ],
      "text/plain": [
       "            F       Dex       Con       Cst        PV       BBA         V\n",
       "F    1.000000 -0.007676 -0.020196 -0.007428 -0.010285  0.002161  0.277130\n",
       "Dex -0.007676  1.000000  0.002267  0.006253 -0.012259  0.002618  0.113156\n",
       "Con -0.020196  0.002267  1.000000  0.005446  0.002185 -0.001167  0.002218\n",
       "Cst -0.007428  0.006253  0.005446  1.000000 -0.008209  0.003429 -0.021012\n",
       "PV  -0.010285 -0.012259  0.002185 -0.008209  1.000000 -0.002913  0.558307\n",
       "BBA  0.002161  0.002618 -0.001167  0.003429 -0.002913  1.000000  0.136038\n",
       "V    0.277130  0.113156  0.002218 -0.021012  0.558307  0.136038  1.000000"
      ]
     },
     "execution_count": 301,
     "metadata": {},
     "output_type": "execute_result"
    }
   ],
   "source": [
    "d.corr()"
   ]
  },
  {
   "cell_type": "code",
   "execution_count": null,
   "metadata": {},
   "outputs": [],
   "source": []
  },
  {
   "cell_type": "code",
   "execution_count": 302,
   "metadata": {},
   "outputs": [
    {
     "data": {
      "text/html": [
       "<table class=\"simpletable\">\n",
       "<caption>Generalized Linear Model Regression Results</caption>\n",
       "<tr>\n",
       "  <th>Dep. Variable:</th>           <td>V</td>        <th>  No. Observations:  </th>  <td> 10000</td> \n",
       "</tr>\n",
       "<tr>\n",
       "  <th>Model:</th>                  <td>GLM</td>       <th>  Df Residuals:      </th>  <td>  9994</td> \n",
       "</tr>\n",
       "<tr>\n",
       "  <th>Model Family:</th>        <td>Binomial</td>     <th>  Df Model:          </th>  <td>     5</td> \n",
       "</tr>\n",
       "<tr>\n",
       "  <th>Link Function:</th>         <td>logit</td>      <th>  Scale:             </th> <td>  1.0000</td>\n",
       "</tr>\n",
       "<tr>\n",
       "  <th>Method:</th>                <td>IRLS</td>       <th>  Log-Likelihood:    </th> <td> -3427.0</td>\n",
       "</tr>\n",
       "<tr>\n",
       "  <th>Date:</th>            <td>Tue, 09 Feb 2021</td> <th>  Deviance:          </th> <td>  6853.9</td>\n",
       "</tr>\n",
       "<tr>\n",
       "  <th>Time:</th>                <td>17:04:35</td>     <th>  Pearson chi2:      </th> <td>1.01e+04</td>\n",
       "</tr>\n",
       "<tr>\n",
       "  <th>No. Iterations:</th>          <td>6</td>        <th>                     </th>     <td> </td>   \n",
       "</tr>\n",
       "<tr>\n",
       "  <th>Covariance Type:</th>     <td>nonrobust</td>    <th>                     </th>     <td> </td>   \n",
       "</tr>\n",
       "</table>\n",
       "<table class=\"simpletable\">\n",
       "<tr>\n",
       "      <td></td>         <th>coef</th>     <th>std err</th>      <th>z</th>      <th>P>|z|</th>  <th>[0.025</th>    <th>0.975]</th>  \n",
       "</tr>\n",
       "<tr>\n",
       "  <th>Intercept</th> <td>  -11.2935</td> <td>    0.326</td> <td>  -34.683</td> <td> 0.000</td> <td>  -11.932</td> <td>  -10.655</td>\n",
       "</tr>\n",
       "<tr>\n",
       "  <th>F</th>         <td>    0.3802</td> <td>    0.012</td> <td>   32.831</td> <td> 0.000</td> <td>    0.357</td> <td>    0.403</td>\n",
       "</tr>\n",
       "<tr>\n",
       "  <th>Dex</th>       <td>    0.1632</td> <td>    0.010</td> <td>   16.358</td> <td> 0.000</td> <td>    0.144</td> <td>    0.183</td>\n",
       "</tr>\n",
       "<tr>\n",
       "  <th>PV</th>        <td>    0.0765</td> <td>    0.002</td> <td>   46.832</td> <td> 0.000</td> <td>    0.073</td> <td>    0.080</td>\n",
       "</tr>\n",
       "<tr>\n",
       "  <th>Con</th>       <td>    0.0027</td> <td>    0.010</td> <td>    0.281</td> <td> 0.779</td> <td>   -0.016</td> <td>    0.022</td>\n",
       "</tr>\n",
       "<tr>\n",
       "  <th>BBA</th>       <td>    0.3504</td> <td>    0.019</td> <td>   18.690</td> <td> 0.000</td> <td>    0.314</td> <td>    0.387</td>\n",
       "</tr>\n",
       "</table>"
      ],
      "text/plain": [
       "<class 'statsmodels.iolib.summary.Summary'>\n",
       "\"\"\"\n",
       "                 Generalized Linear Model Regression Results                  \n",
       "==============================================================================\n",
       "Dep. Variable:                      V   No. Observations:                10000\n",
       "Model:                            GLM   Df Residuals:                     9994\n",
       "Model Family:                Binomial   Df Model:                            5\n",
       "Link Function:                  logit   Scale:                          1.0000\n",
       "Method:                          IRLS   Log-Likelihood:                -3427.0\n",
       "Date:                Tue, 09 Feb 2021   Deviance:                       6853.9\n",
       "Time:                        17:04:35   Pearson chi2:                 1.01e+04\n",
       "No. Iterations:                     6                                         \n",
       "Covariance Type:            nonrobust                                         \n",
       "==============================================================================\n",
       "                 coef    std err          z      P>|z|      [0.025      0.975]\n",
       "------------------------------------------------------------------------------\n",
       "Intercept    -11.2935      0.326    -34.683      0.000     -11.932     -10.655\n",
       "F              0.3802      0.012     32.831      0.000       0.357       0.403\n",
       "Dex            0.1632      0.010     16.358      0.000       0.144       0.183\n",
       "PV             0.0765      0.002     46.832      0.000       0.073       0.080\n",
       "Con            0.0027      0.010      0.281      0.779      -0.016       0.022\n",
       "BBA            0.3504      0.019     18.690      0.000       0.314       0.387\n",
       "==============================================================================\n",
       "\"\"\""
      ]
     },
     "execution_count": 302,
     "metadata": {},
     "output_type": "execute_result"
    }
   ],
   "source": [
    "mod_sans_piege=smf.glm(formula='V ~ F+Dex+PV+Con+BBA', data=d,family=sm.families.Binomial())\n",
    "res_sans_piege = mod_sans_piege.fit()\n",
    "res_sans_piege.summary()"
   ]
  },
  {
   "cell_type": "code",
   "execution_count": 280,
   "metadata": {},
   "outputs": [],
   "source": [
    "F, Dex, PV, Con, BBA = 15, 15, 80, 10, 2\n",
    "r=-11.27+0.23*F+0.32*Dex+0.08*PV-0.0015*Con+0.32*BBA"
   ]
  },
  {
   "cell_type": "code",
   "execution_count": 281,
   "metadata": {},
   "outputs": [
    {
     "data": {
      "text/plain": [
       "-3.005000000000001"
      ]
     },
     "execution_count": 281,
     "metadata": {},
     "output_type": "execute_result"
    }
   ],
   "source": []
  },
  {
   "cell_type": "code",
   "execution_count": 229,
   "metadata": {},
   "outputs": [],
   "source": [
    "from sklearn.preprocessing import StandardScaler\n",
    "features = ['F', 'Dex', 'Con', 'Cst','PV','BBA']# Separating out the features\n",
    "x = d.loc[:, features].values# Separating out the target\n",
    "y = d.loc[:,['V']].values# Standardizing the features\n",
    "x = StandardScaler().fit_transform(x)"
   ]
  },
  {
   "cell_type": "code",
   "execution_count": 231,
   "metadata": {},
   "outputs": [
    {
     "data": {
      "text/plain": [
       "array([-0.88240313,  1.4508797 , -0.8960449 ,  0.29148172,  1.43501214,\n",
       "       -0.70645304])"
      ]
     },
     "execution_count": 231,
     "metadata": {},
     "output_type": "execute_result"
    }
   ],
   "source": [
    "x[0]"
   ]
  },
  {
   "cell_type": "code",
   "execution_count": 232,
   "metadata": {},
   "outputs": [],
   "source": [
    "from sklearn.decomposition import PCA\n",
    "pca = PCA(n_components=2)\n",
    "principalComponents = pca.fit_transform(x)\n",
    "principalDf = pd.DataFrame(data = principalComponents,\\\n",
    "                           columns = ['principal component 1', 'principal component 2'])"
   ]
  },
  {
   "cell_type": "code",
   "execution_count": 233,
   "metadata": {},
   "outputs": [
    {
     "data": {
      "text/html": [
       "<div>\n",
       "<style scoped>\n",
       "    .dataframe tbody tr th:only-of-type {\n",
       "        vertical-align: middle;\n",
       "    }\n",
       "\n",
       "    .dataframe tbody tr th {\n",
       "        vertical-align: top;\n",
       "    }\n",
       "\n",
       "    .dataframe thead th {\n",
       "        text-align: right;\n",
       "    }\n",
       "</style>\n",
       "<table border=\"1\" class=\"dataframe\">\n",
       "  <thead>\n",
       "    <tr style=\"text-align: right;\">\n",
       "      <th></th>\n",
       "      <th>principal component 1</th>\n",
       "      <th>principal component 2</th>\n",
       "    </tr>\n",
       "  </thead>\n",
       "  <tbody>\n",
       "    <tr>\n",
       "      <th>0</th>\n",
       "      <td>-0.376286</td>\n",
       "      <td>0.311106</td>\n",
       "    </tr>\n",
       "    <tr>\n",
       "      <th>1</th>\n",
       "      <td>-0.470487</td>\n",
       "      <td>0.920040</td>\n",
       "    </tr>\n",
       "    <tr>\n",
       "      <th>2</th>\n",
       "      <td>0.562762</td>\n",
       "      <td>1.175916</td>\n",
       "    </tr>\n",
       "    <tr>\n",
       "      <th>3</th>\n",
       "      <td>1.194920</td>\n",
       "      <td>0.697773</td>\n",
       "    </tr>\n",
       "    <tr>\n",
       "      <th>4</th>\n",
       "      <td>1.477161</td>\n",
       "      <td>-0.160321</td>\n",
       "    </tr>\n",
       "    <tr>\n",
       "      <th>...</th>\n",
       "      <td>...</td>\n",
       "      <td>...</td>\n",
       "    </tr>\n",
       "    <tr>\n",
       "      <th>9995</th>\n",
       "      <td>2.070739</td>\n",
       "      <td>-0.167776</td>\n",
       "    </tr>\n",
       "    <tr>\n",
       "      <th>9996</th>\n",
       "      <td>-0.883873</td>\n",
       "      <td>-1.520925</td>\n",
       "    </tr>\n",
       "    <tr>\n",
       "      <th>9997</th>\n",
       "      <td>0.926218</td>\n",
       "      <td>-1.166139</td>\n",
       "    </tr>\n",
       "    <tr>\n",
       "      <th>9998</th>\n",
       "      <td>-1.013328</td>\n",
       "      <td>1.065910</td>\n",
       "    </tr>\n",
       "    <tr>\n",
       "      <th>9999</th>\n",
       "      <td>2.739794</td>\n",
       "      <td>-0.752788</td>\n",
       "    </tr>\n",
       "  </tbody>\n",
       "</table>\n",
       "<p>10000 rows × 2 columns</p>\n",
       "</div>"
      ],
      "text/plain": [
       "      principal component 1  principal component 2\n",
       "0                 -0.376286               0.311106\n",
       "1                 -0.470487               0.920040\n",
       "2                  0.562762               1.175916\n",
       "3                  1.194920               0.697773\n",
       "4                  1.477161              -0.160321\n",
       "...                     ...                    ...\n",
       "9995               2.070739              -0.167776\n",
       "9996              -0.883873              -1.520925\n",
       "9997               0.926218              -1.166139\n",
       "9998              -1.013328               1.065910\n",
       "9999               2.739794              -0.752788\n",
       "\n",
       "[10000 rows x 2 columns]"
      ]
     },
     "execution_count": 233,
     "metadata": {},
     "output_type": "execute_result"
    }
   ],
   "source": [
    "principalDf"
   ]
  },
  {
   "cell_type": "code",
   "execution_count": 234,
   "metadata": {},
   "outputs": [],
   "source": [
    "finalDf = pd.concat([principalDf, d[['V']]], axis = 1)"
   ]
  },
  {
   "cell_type": "code",
   "execution_count": 236,
   "metadata": {},
   "outputs": [
    {
     "data": {
      "text/plain": [
       "[<matplotlib.lines.Line2D at 0x7f8bd14804e0>,\n",
       " <matplotlib.lines.Line2D at 0x7f8bd13ecba8>,\n",
       " <matplotlib.lines.Line2D at 0x7f8bd13ecc18>]"
      ]
     },
     "execution_count": 236,
     "metadata": {},
     "output_type": "execute_result"
    },
    {
     "data": {
      "image/png": "[encoded data removed]",
      "text/plain": [
       "<Figure size 432x288 with 1 Axes>"
      ]
     },
     "metadata": {
      "needs_background": "light"
     },
     "output_type": "display_data"
    }
   ],
   "source": [
    "plt.plot(finalDf)"
   ]
  },
  {
   "cell_type": "code",
   "execution_count": 243,
   "metadata": {},
   "outputs": [
    {
     "data": {
      "image/png": "[encoded data removed]",
      "text/plain": [
       "<Figure size 576x576 with 1 Axes>"
      ]
     },
     "metadata": {
      "needs_background": "light"
     },
     "output_type": "display_data"
    }
   ],
   "source": [
    "fig = plt.figure(figsize = (8,8))\n",
    "ax = fig.add_subplot(1,1,1) \n",
    "ax.set_xlabel('Principal Component 1', fontsize = 15)\n",
    "ax.set_ylabel('Principal Component 2', fontsize = 15)\n",
    "ax.set_title('2 component PCA', fontsize = 20)\n",
    "targets = [1,0.1,0.2, 0.5, 0]\n",
    "colors = ['r','y','grey', 'g', 'b']\n",
    "for target, color in zip(targets,colors):\n",
    "    indicesToKeep = finalDf['V'] == target\n",
    "    ax.scatter(finalDf.loc[indicesToKeep, 'principal component 1']\n",
    "               , finalDf.loc[indicesToKeep, 'principal component 2']\n",
    "               , c = color\n",
    "               , s = 50)\n",
    "ax.legend(targets)\n",
    "ax.grid()"
   ]
  },
  {
   "cell_type": "code",
   "execution_count": 239,
   "metadata": {},
   "outputs": [
    {
     "data": {
      "text/plain": [
       "array([0.17227304, 0.16975637])"
      ]
     },
     "execution_count": 239,
     "metadata": {},
     "output_type": "execute_result"
    }
   ],
   "source": [
    "pca.explained_variance_ratio_"
   ]
  },
  {
   "cell_type": "code",
   "execution_count": 122,
   "metadata": {},
   "outputs": [],
   "source": [
    "import statsmodels.api as sm\n",
    "import statsmodels.formula.api as smf"
   ]
  },
  {
   "cell_type": "code",
   "execution_count": null,
   "metadata": {},
   "outputs": [],
   "source": []
  },
  {
   "cell_type": "code",
   "execution_count": 96,
   "metadata": {},
   "outputs": [
    {
     "data": {
      "text/plain": [
       "[<matplotlib.lines.Line2D at 0x7f8c18a3e588>]"
      ]
     },
     "execution_count": 96,
     "metadata": {},
     "output_type": "execute_result"
    },
    {
     "data": {
      "image/png": "[encoded data removed]",
      "text/plain": [
       "<Figure size 432x288 with 1 Axes>"
      ]
     },
     "metadata": {
      "needs_background": "light"
     },
     "output_type": "display_data"
    }
   ],
   "source": [
    "plt.plot(y)"
   ]
  },
  {
   "cell_type": "code",
   "execution_count": 150,
   "metadata": {},
   "outputs": [],
   "source": [
    "l_perso = []\n",
    "for i in range(0,10000):\n",
    "    l_perso.append(perso_alea())"
   ]
  },
  {
   "cell_type": "code",
   "execution_count": 153,
   "metadata": {},
   "outputs": [],
   "source": [
    "PV = []\n",
    "for p in l_perso:\n",
    "    PV.append(p.F)"
   ]
  },
  {
   "cell_type": "code",
   "execution_count": 154,
   "metadata": {},
   "outputs": [
    {
     "data": {
      "text/plain": [
       "[<matplotlib.lines.Line2D at 0x7f8bdf0e4a90>]"
      ]
     },
     "execution_count": 154,
     "metadata": {},
     "output_type": "execute_result"
    },
    {
     "data": {
      "image/png": "[encoded data removed]",
      "text/plain": [
       "<Figure size 432x288 with 1 Axes>"
      ]
     },
     "metadata": {
      "needs_background": "light"
     },
     "output_type": "display_data"
    }
   ],
   "source": [
    "plt.plot(PV)"
   ]
  },
  {
   "cell_type": "code",
   "execution_count": 84,
   "metadata": {},
   "outputs": [
    {
     "data": {
      "text/plain": [
       "0.281"
      ]
     },
     "execution_count": 84,
     "metadata": {},
     "output_type": "execute_result"
    }
   ],
   "source": [
    "cb.monte_carlo_combat(1000,l_perso[0],l_perso[7],a1=[1],a2=[1],duree=True)"
   ]
  },
  {
   "cell_type": "code",
   "execution_count": 42,
   "metadata": {},
   "outputs": [],
   "source": [
    "def attaque_magique(p1, p2, degat_sort=[2,4,0], DD = [-1,'reflex', 0]):\n",
    "    degat=degat_sort[2]\n",
    "    for i in range(0,degat_sort[0]):\n",
    "        degat+=rd.randint(1,degat_sort[1])\n",
    "    resistance = False\n",
    "    if DD[0]>=0:\n",
    "        if DD[1]=='reflex':\n",
    "            if (rd.randint(1,20)+p2.reflex )>= DD[0]:\n",
    "                resistance = True\n",
    "        elif DD[1]=='volonte':\n",
    "            if (rd.randint(1,20)+p2.volonte )>= DD[0]:\n",
    "                resistance = True\n",
    "        else:\n",
    "            if (rd.randint(1,20)+p2.vigueur )>= DD[0]:\n",
    "                resistance = True\n",
    "    if resistance == False:\n",
    "        p2.PV -= degat\n",
    "    elif DD[2] > 0:\n",
    "        p2.PV -= degat*DD[2]"
   ]
  },
  {
   "cell_type": "code",
   "execution_count": 43,
   "metadata": {},
   "outputs": [
    {
     "ename": "NameError",
     "evalue": "name 'boule_de_feu' is not defined",
     "output_type": "error",
     "traceback": [
      "\u001b[0;31m---------------------------------------------------------------------------\u001b[0m",
      "\u001b[0;31mNameError\u001b[0m                                 Traceback (most recent call last)",
      "\u001b[0;32m<ipython-input-43-6c36d55a56ba>\u001b[0m in \u001b[0;36m<module>\u001b[0;34m\u001b[0m\n\u001b[1;32m      4\u001b[0m         \u001b[0mself\u001b[0m\u001b[0;34m.\u001b[0m\u001b[0mnom\u001b[0m \u001b[0;34m=\u001b[0m \u001b[0mnom\u001b[0m\u001b[0;34m\u001b[0m\u001b[0;34m\u001b[0m\u001b[0m\n\u001b[1;32m      5\u001b[0m         \u001b[0mself\u001b[0m\u001b[0;34m.\u001b[0m\u001b[0mdegat\u001b[0m \u001b[0;34m=\u001b[0m \u001b[0mdegat\u001b[0m\u001b[0;34m\u001b[0m\u001b[0;34m\u001b[0m\u001b[0m\n\u001b[0;32m----> 6\u001b[0;31m \u001b[0mboule_de_feu\u001b[0m\u001b[0;34m\u001b[0m\u001b[0;34m\u001b[0m\u001b[0m\n\u001b[0m",
      "\u001b[0;31mNameError\u001b[0m: name 'boule_de_feu' is not defined"
     ]
    }
   ],
   "source": [
    "class Sort():\n",
    "    def __init__(self, cout, nom, degat):\n",
    "        self.cout = cout\n",
    "        self.nom = nom\n",
    "        self.degat = degat\n",
    "boule_de_feu"
   ]
  },
  {
   "cell_type": "code",
   "execution_count": 5,
   "metadata": {},
   "outputs": [
    {
     "name": "stdout",
     "output_type": "stream",
     "text": [
      "Elrosgarius | PV : 29/29 | PM : 0/0 | CA : 16(+0) | Poids : 85.522kg (leger)\n",
      "F : 12(+1) | Dex : 16(+3) | Con : 12(+1) | Cst : 12(+1)\n",
      "Cac1 : epee courte(5/1), Cac2 : epee courte(5/1), Tir : arc composite(6/0)\n",
      "Armure : cuir clouté\n"
     ]
    }
   ],
   "source": [
    "pj.elrosgarius.resume()"
   ]
  },
  {
   "cell_type": "code",
   "execution_count": 44,
   "metadata": {},
   "outputs": [
    {
     "data": {
      "text/plain": [
       "20"
      ]
     },
     "execution_count": 44,
     "metadata": {},
     "output_type": "execute_result"
    },
    {
     "data": {
      "image/png": "[encoded data removed]",
      "text/plain": [
       "<Figure size 432x288 with 1 Axes>"
      ]
     },
     "metadata": {
      "needs_background": "light"
     },
     "output_type": "display_data"
    }
   ],
   "source": [
    "import numpy as np\n",
    "import matplotlib.pyplot as plt\n",
    "x = np.linspace(1,20,20)\n",
    "y = [1.5,3,5,6.5,8,10,11.5,13,15,17.5,19,21.5,25,29,33,38,43,50,58,66.5]\n",
    "z = [3, 6.5, 10, 13,16.5, 20, 23,26.5,30, 33, 38, 43, 50, 58, 66.5, 76.5, 86.5,100,116,133]\n",
    "def cst(x):\n",
    "    return 15\n",
    "plt.plot(x,y)\n",
    "plt.plot(x,z)\n",
    "plt.plot(x,np.exp(0.87*x**0.52))\n",
    "plt.plot(x, np.exp((x**0.52))+5)\n",
    "#plt.plot(x, cst(x))\n",
    "len(z)"
   ]
  },
  {
   "cell_type": "code",
   "execution_count": 45,
   "metadata": {},
   "outputs": [
    {
     "name": "stdout",
     "output_type": "stream",
     "text": [
      "gobelin | PV : 5/5 | PM : 0/0 | CA : 13(+1) | Poids : 82.512kg (leger)\n",
      "F : 11(+0) | Dex : 13(+1) | Con : 9(+-1) | Cst : 12(+1)\n",
      "Cac1 : morgenstern(2/0), Cac2 : poing(0/-1), Tir : poing(0/-1)\n",
      "Armure : cuir\n"
     ]
    }
   ],
   "source": [
    "mo.creation_monstre(mo.gobelin).resume()"
   ]
  },
  {
   "cell_type": "code",
   "execution_count": 46,
   "metadata": {},
   "outputs": [
    {
     "name": "stdout",
     "output_type": "stream",
     "text": [
      "hobgobelin | PV : 5/5 | PM : 0/0 | CA : 14(+1) | Poids : 85.006kg (leger)\n",
      "F : 13(+1) | Dex : 13(+1) | Con : 11(+0) | Cst : 14(+2)\n",
      "Cac1 : epee longue(2/3), Cac2 : poing(0/0), Tir : javeline(2/0)\n",
      "Armure : cuir clouté\n"
     ]
    }
   ],
   "source": [
    "mo.creation_monstre(mo.hobgobelin).resume()"
   ]
  },
  {
   "cell_type": "code",
   "execution_count": 47,
   "metadata": {},
   "outputs": [],
   "source": [
    "bande2 = []\n",
    "for i in range(0,8):\n",
    "    bande2.append([mo.creation_monstre(mo.gobelin),'acheve','cac', 0])"
   ]
  },
  {
   "cell_type": "code",
   "execution_count": 48,
   "metadata": {},
   "outputs": [],
   "source": [
    "liste_dons = ['maitrise_arme', 'attaque_circulaire', 'saignement', 'tir_lointain', 'armure_legere_1'\\\n",
    "             'armure_legere_2']"
   ]
  },
  {
   "cell_type": "code",
   "execution_count": 49,
   "metadata": {},
   "outputs": [
    {
     "ename": "AttributeError",
     "evalue": "module 'classe' has no attribute 'arc_composite'",
     "output_type": "error",
     "traceback": [
      "\u001b[0;31m---------------------------------------------------------------------------\u001b[0m",
      "\u001b[0;31mAttributeError\u001b[0m                            Traceback (most recent call last)",
      "\u001b[0;32m<ipython-input-49-27cdc0e35260>\u001b[0m in \u001b[0;36m<module>\u001b[0;34m\u001b[0m\n\u001b[0;32m----> 1\u001b[0;31m elrosgarius = cl.Personnage(12,16,12,12,PV=29,arme3=cl.arc_composite, arme2=cl.epee_courte_dex,\\\n\u001b[0m\u001b[1;32m      2\u001b[0m                             \u001b[0marme1\u001b[0m\u001b[0;34m=\u001b[0m\u001b[0mcl\u001b[0m\u001b[0;34m.\u001b[0m\u001b[0mepee_courte_dex\u001b[0m\u001b[0;34m,\u001b[0m\u001b[0marmure\u001b[0m\u001b[0;34m=\u001b[0m\u001b[0mcl\u001b[0m\u001b[0;34m.\u001b[0m\u001b[0mcuir_cloute_maitre\u001b[0m\u001b[0;34m,\u001b[0m\u001b[0;31m\\\u001b[0m\u001b[0;34m\u001b[0m\u001b[0;34m\u001b[0m\u001b[0m\n\u001b[1;32m      3\u001b[0m                          \u001b[0mnom\u001b[0m\u001b[0;34m=\u001b[0m\u001b[0;34m\"Elrosgarius\"\u001b[0m\u001b[0;34m,\u001b[0m \u001b[0mLvl\u001b[0m\u001b[0;34m=\u001b[0m\u001b[0;36m4\u001b[0m\u001b[0;34m,\u001b[0m \u001b[0mPO\u001b[0m\u001b[0;34m=\u001b[0m\u001b[0;36m337\u001b[0m\u001b[0;34m,\u001b[0m \u001b[0mBBA\u001b[0m\u001b[0;34m=\u001b[0m\u001b[0;36m2\u001b[0m\u001b[0;34m,\u001b[0m\u001b[0;31m\\\u001b[0m\u001b[0;34m\u001b[0m\u001b[0;34m\u001b[0m\u001b[0m\n\u001b[1;32m      4\u001b[0m                         dons=['tir_lointain'])\n\u001b[1;32m      5\u001b[0m ysoria = cl.Personnage(16,14,9,14,PV=45,arme1=cl.faux, arme2=cl.epee_courte_dex,armure=cl.crevice,\\\n",
      "\u001b[0;31mAttributeError\u001b[0m: module 'classe' has no attribute 'arc_composite'"
     ]
    }
   ],
   "source": [
    "elrosgarius = cl.Personnage(12,16,12,12,PV=29,arme3=cl.arc_composite, arme2=cl.epee_courte_dex,\\\n",
    "                            arme1=cl.epee_courte_dex,armure=cl.cuir_cloute_maitre,\\\n",
    "                         nom=\"Elrosgarius\", Lvl=4, PO=337, BBA=2,\\\n",
    "                        dons=['tir_lointain'])\n",
    "ysoria = cl.Personnage(16,14,9,14,PV=45,arme1=cl.faux, arme2=cl.epee_courte_dex,armure=cl.crevice,\\\n",
    "                    nom=\"Ysoria\", Lvl=4, PO=334.5, BBA=3,\\\n",
    "                    dons=['armure_legere_1','maitrise_arme','saignement','attaque_circulaire'])\n",
    "menelaus = cl.Personnage(12,18,13,12,45,cl.cimeterre,cl.cimeterre,\\\n",
    "                         armure = cl.cuir_cloute,nom=\"Menelaus\", Lvl=5, PO=400, BBA=5)\n",
    "neven = cl.Personnage(11, 12, 16, 10, 22, cl.epee_courte_f, armure = cl.cuir_cloute,\\\n",
    "                     nom = \"Neven\", Lvl = 4, PO = 300, BBA = 1)"
   ]
  },
  {
   "cell_type": "code",
   "execution_count": 50,
   "metadata": {},
   "outputs": [
    {
     "ename": "NameError",
     "evalue": "name 'wp' is not defined",
     "output_type": "error",
     "traceback": [
      "\u001b[0;31m---------------------------------------------------------------------------\u001b[0m",
      "\u001b[0;31mNameError\u001b[0m                                 Traceback (most recent call last)",
      "\u001b[0;32m<ipython-input-50-b3dd8678dc47>\u001b[0m in \u001b[0;36m<module>\u001b[0;34m\u001b[0m\n\u001b[1;32m      1\u001b[0m neven = cl.Personnage(11, 12, 16, 10, 22,\\\n\u001b[0;32m----> 2\u001b[0;31m                      nom = \"Neven\", Lvl = 4, PO = 300, BBA = 1, arme3 = wp.arc_composite)\n\u001b[0m",
      "\u001b[0;31mNameError\u001b[0m: name 'wp' is not defined"
     ]
    }
   ],
   "source": [
    "neven = cl.Personnage(11, 12, 16, 10, 22,\\\n",
    "                     nom = \"Neven\", Lvl = 4, PO = 300, BBA = 1, arme3 = wp.arc_composite)"
   ]
  },
  {
   "cell_type": "code",
   "execution_count": 51,
   "metadata": {},
   "outputs": [
    {
     "ename": "NameError",
     "evalue": "name 'neven' is not defined",
     "output_type": "error",
     "traceback": [
      "\u001b[0;31m---------------------------------------------------------------------------\u001b[0m",
      "\u001b[0;31mNameError\u001b[0m                                 Traceback (most recent call last)",
      "\u001b[0;32m<ipython-input-51-d9f9c24cdd3d>\u001b[0m in \u001b[0;36m<module>\u001b[0;34m\u001b[0m\n\u001b[0;32m----> 1\u001b[0;31m \u001b[0mneven\u001b[0m\u001b[0;34m.\u001b[0m\u001b[0mresume\u001b[0m\u001b[0;34m(\u001b[0m\u001b[0;34m)\u001b[0m\u001b[0;34m\u001b[0m\u001b[0;34m\u001b[0m\u001b[0m\n\u001b[0m",
      "\u001b[0;31mNameError\u001b[0m: name 'neven' is not defined"
     ]
    }
   ],
   "source": [
    "neven.resume()"
   ]
  },
  {
   "cell_type": "code",
   "execution_count": 52,
   "metadata": {},
   "outputs": [
    {
     "ename": "NameError",
     "evalue": "name 'ysoria' is not defined",
     "output_type": "error",
     "traceback": [
      "\u001b[0;31m---------------------------------------------------------------------------\u001b[0m",
      "\u001b[0;31mNameError\u001b[0m                                 Traceback (most recent call last)",
      "\u001b[0;32m<ipython-input-52-002adc26c756>\u001b[0m in \u001b[0;36m<module>\u001b[0;34m\u001b[0m\n\u001b[0;32m----> 1\u001b[0;31m \u001b[0mprint\u001b[0m\u001b[0;34m(\u001b[0m\u001b[0mysoria\u001b[0m\u001b[0;34m.\u001b[0m\u001b[0mresume\u001b[0m\u001b[0;34m(\u001b[0m\u001b[0;34m)\u001b[0m\u001b[0;34m)\u001b[0m\u001b[0;34m\u001b[0m\u001b[0;34m\u001b[0m\u001b[0m\n\u001b[0m",
      "\u001b[0;31mNameError\u001b[0m: name 'ysoria' is not defined"
     ]
    }
   ],
   "source": [
    "print(ysoria.resume())"
   ]
  },
  {
   "cell_type": "code",
   "execution_count": 64,
   "metadata": {},
   "outputs": [],
   "source": [
    "#liste_perso = [[elrosgarius, ysoria], [menelaus]]\n",
    "#liste_arme = [[elrosgarius.arme2, elrosgarius.arme2], ysoria.arme1, menelaus.arme1]\n",
    "#liste_strategie = [['elrosgarius', 'menelaus', 'cac'],['ysoria', 'menelaus', 'cac'], ['menelaus', 'ysoria', 'cac']]\n",
    "#liste_initiative = []\n",
    "#nom strategie = tank, acheve, magie_..., tir,  \n",
    "# nom strat : cible, type\n",
    "#liste1 = [[elrosgarius, 'acheve', 'tir', 0], [ysoria, 'tank', 'cac', 0]]\n",
    "#liste2 = [[menelaus, 'danger', 'cac2', 0]]\n",
    "\n",
    "def liste_initiative(liste1, liste2):\n",
    "    l_ini = []\n",
    "    for i in range(0,len(liste1)):\n",
    "        if liste1[i][3]==0:\n",
    "            l_ini.append(liste1[i][0].Dex)\n",
    "        else:\n",
    "            l_ini.append(liste1[i][3])\n",
    "    for i in range(0,len(liste2)):\n",
    "        if liste2[i][3]==0:\n",
    "            l_ini.append(liste2[i][0].Dex)\n",
    "        else:\n",
    "            l_ini.append(liste2[i][3])\n",
    "    return l_ini\n",
    "def recherche_acheve(liste):\n",
    "    #recherche min des PV\n",
    "    PV_min = liste[0][0].PV\n",
    "    cible = liste[0]\n",
    "    for i in range(0,len(liste)):\n",
    "        if liste[i][0].PV < PV_min:\n",
    "            PV_min = liste[i][0].PV\n",
    "            cible = liste[i]\n",
    "    return cible\n",
    "\n",
    "def recherche_tank(liste):\n",
    "    #recherche max des PV\n",
    "    PV_max = liste[0][0].PV\n",
    "    cible = liste[0]\n",
    "    for i in range(0,len(liste)):\n",
    "        if liste[i][0].PV > PV_max:\n",
    "            PV_max = liste[i][0].PV\n",
    "            cible = liste[i]\n",
    "    return cible\n",
    "\n",
    "def recherche_danger(liste):\n",
    "    F_max = liste[0][0].F\n",
    "    cible = liste[0]\n",
    "    for i in range(0,len(liste)):\n",
    "        if liste[i][0].F > F_max:\n",
    "            F_max = liste[i][0].F\n",
    "            cible = liste[i]\n",
    "    return cible\n",
    "\n",
    "def recherche_cible(liste, strat):\n",
    "    if strat == 'acheve':\n",
    "        return recherche_acheve(liste)\n",
    "    elif strat == 'tank':\n",
    "        return recherche_tank(liste)\n",
    "    elif strat == 'danger':\n",
    "        return recherche_danger(liste)\n",
    "    \n",
    "    \n",
    "def combat_round(p1, p2, l_arme_1, l_arme_2):\n",
    "    for i in l_arme_1:\n",
    "        t1, d1, cc = cb.attaque(p1, i, True)\n",
    "        b=0\n",
    "        for i in l_arme_2:\n",
    "            if i.typ == 'bouclier':\n",
    "                b+= i.bonus_CA\n",
    "        if t1 > (p2.CA+b) or cc==True:\n",
    "            p2.PV -= d1\n",
    "            \n",
    "def exlure_mort(liste):\n",
    "    new_list = []\n",
    "    for i in liste:\n",
    "        if i[0].PV >0:\n",
    "            new_list.append(i)\n",
    "    return new_list\n",
    "            \n",
    "def combat_round_multi(liste1, liste2, verbeux = False):\n",
    "    c = len(liste1)+len(liste2)\n",
    "    liste_ini = liste_initiative(liste1,liste2)\n",
    "    ini_max = max(liste_ini)\n",
    "    while c > 0:\n",
    "        indice_max = liste_ini.index(ini_max)\n",
    "        liste_ini[indice_max] = -1\n",
    "        ini_max = max(liste_ini)\n",
    "        if indice_max < len(liste1):\n",
    "            perso, strat, arme = liste1[indice_max][0], liste1[indice_max][1], liste1[indice_max][2]\n",
    "            liste_ennemi = liste2\n",
    "        else:\n",
    "            perso, strat, arme = liste2[indice_max-len(liste1)][0], \\\n",
    "            liste2[indice_max-len(liste1)][1], liste2[indice_max-len(liste1)][2]\n",
    "            liste_ennemi = liste1\n",
    "        if arme == 'cac':\n",
    "            a = [perso.arme1]\n",
    "        elif arme == 'cac2':\n",
    "            a = [perso.arme1, perso.arme2]\n",
    "        elif arme == 'tir':\n",
    "            a = [perso.arme3]\n",
    "        liste_cible = recherche_cible(liste_ennemi, strat)\n",
    "        perso_cible, strat_cible, arme_cible = liste_cible[0], liste_cible[1], liste_cible[2]\n",
    "        if arme_cible == 'cac':\n",
    "            a_cible = [perso_cible.arme1]\n",
    "        elif arme_cible == 'cac2':\n",
    "            a_cible = [perso_cible.arme1, perso_cible.arme2]\n",
    "        elif arme_cible == 'tir':\n",
    "            a_cible = [perso_cible.arme3]\n",
    "        if perso.PV >0 and perso_cible.PV >0:\n",
    "            combat_round(perso, perso_cible, a, a_cible)\n",
    "        \n",
    "        \n",
    "        c-=1\n",
    "    if verbeux == True:\n",
    "        for i in liste1:\n",
    "            i[0].resume()\n",
    "        for j in liste2:\n",
    "            j[0].resume()\n",
    "        print(\"##############\")\n",
    "    return exlure_mort(liste1), exlure_mort(liste2)\n",
    "    \n",
    "    for i in a1:\n",
    "        if i==1:\n",
    "            a = p1.arme1\n",
    "        elif i==2:\n",
    "            a=p1.arme2\n",
    "        elif i==3:\n",
    "            a=p1.arme3\n",
    "        t1, d1, cc = attaque(p1, a, True)\n",
    "        if t1 > p2.CA or cc==True:\n",
    "            p2.PV -= d1\n",
    "    if p2.PV >0:\n",
    "        for i in a2:\n",
    "            if i==1:\n",
    "                a = p2.arme1\n",
    "            elif i==2:\n",
    "                a=p2.arme2\n",
    "            elif i==3:\n",
    "                a=p2.arme3\n",
    "        t2,d2, cc = attaque(p2,a,True)\n",
    "        if t2 > p1.CA or cc == True:\n",
    "            p1.PV -= d2\n",
    "def svg_PV(liste):\n",
    "    l_pv = []\n",
    "    for i in liste:\n",
    "        l_pv.append(i[0].PV)\n",
    "    return l_pv\n",
    "def rendre_pv(liste, l_pv):\n",
    "    for i in range(0,len(liste)):\n",
    "        liste[i][0].PV = l_pv[i]\n",
    "\n",
    "def combat_multiple(liste1, liste2):\n",
    "    l_pv_ori_1 = svg_PV(liste1)\n",
    "    l_pv_ori_2 = svg_PV(liste2)\n",
    "    l1 = list.copy(liste1)\n",
    "    l2 = list.copy(liste2)\n",
    "    while len(l1) > 0 and len(l2) > 0:\n",
    "        l1, l2 = combat_round_multi(l1, l2)\n",
    "    if len(l1) == 0:\n",
    "        r = 1\n",
    "    else:\n",
    "        r=0\n",
    "    rendre_pv(liste1, l_pv_ori_1)\n",
    "    rendre_pv(liste2, l_pv_ori_2)\n",
    "    return r\n",
    "\n",
    "def monte_carlo_multiple(n, l1, l2):\n",
    "    r = 0\n",
    "    for i in range(0,n):\n",
    "        r+=combat_multiple(l1, l2)\n",
    "    return r/n\n",
    "    "
   ]
  },
  {
   "cell_type": "code",
   "execution_count": 54,
   "metadata": {},
   "outputs": [
    {
     "ename": "NameError",
     "evalue": "name 'bande' is not defined",
     "output_type": "error",
     "traceback": [
      "\u001b[0;31m---------------------------------------------------------------------------\u001b[0m",
      "\u001b[0;31mNameError\u001b[0m                                 Traceback (most recent call last)",
      "\u001b[0;32m<ipython-input-54-f5ec9a74aa7e>\u001b[0m in \u001b[0;36m<module>\u001b[0;34m\u001b[0m\n\u001b[0;32m----> 1\u001b[0;31m \u001b[0mmonte_carlo_multiple\u001b[0m\u001b[0;34m(\u001b[0m\u001b[0;36m1000\u001b[0m\u001b[0;34m,\u001b[0m \u001b[0mbande\u001b[0m\u001b[0;34m,\u001b[0m \u001b[0mbande2\u001b[0m\u001b[0;34m)\u001b[0m\u001b[0;34m\u001b[0m\u001b[0;34m\u001b[0m\u001b[0m\n\u001b[0m",
      "\u001b[0;31mNameError\u001b[0m: name 'bande' is not defined"
     ]
    }
   ],
   "source": [
    "monte_carlo_multiple(1000, bande, bande2)"
   ]
  },
  {
   "cell_type": "code",
   "execution_count": 55,
   "metadata": {},
   "outputs": [
    {
     "ename": "AttributeError",
     "evalue": "module 'classe' has no attribute 'epee_courte_f'",
     "output_type": "error",
     "traceback": [
      "\u001b[0;31m---------------------------------------------------------------------------\u001b[0m",
      "\u001b[0;31mAttributeError\u001b[0m                            Traceback (most recent call last)",
      "\u001b[0;32m<ipython-input-55-78b188480545>\u001b[0m in \u001b[0;36m<module>\u001b[0;34m\u001b[0m\n\u001b[0;32m----> 1\u001b[0;31m gob1 = cl.Personnage(12,11,10,10,PV = 8,arme1 = cl.epee_courte_f,\\\n\u001b[0m\u001b[1;32m      2\u001b[0m                          armure = cl.cuir_cloute,nom=\"gob 1\", Lvl=1, PO=5, BBA=1)\n\u001b[1;32m      3\u001b[0m gob2 = cl.Personnage(12,11,10,10,PV = 8,arme1 = cl.epee_courte_f,\\\n\u001b[1;32m      4\u001b[0m                          armure = cl.cuir_cloute,nom=\"gob 2\", Lvl=1, PO=5, BBA=1)\n\u001b[1;32m      5\u001b[0m gob3 = cl.Personnage(12,11,10,10,PV = 8,arme1 = cl.epee_courte_f,\\\n",
      "\u001b[0;31mAttributeError\u001b[0m: module 'classe' has no attribute 'epee_courte_f'"
     ]
    }
   ],
   "source": [
    "gob1 = cl.Personnage(12,11,10,10,PV = 8,arme1 = cl.epee_courte_f,\\\n",
    "                         armure = cl.cuir_cloute,nom=\"gob 1\", Lvl=1, PO=5, BBA=1)\n",
    "gob2 = cl.Personnage(12,11,10,10,PV = 8,arme1 = cl.epee_courte_f,\\\n",
    "                         armure = cl.cuir_cloute,nom=\"gob 2\", Lvl=1, PO=5, BBA=1)\n",
    "gob3 = cl.Personnage(12,11,10,10,PV = 8,arme1 = cl.epee_courte_f,\\\n",
    "                         armure = cl.cuir_cloute,nom=\"gob 3\", Lvl=1, PO=5, BBA=1)\n",
    "gob4 = cl.Personnage(12,11,10,10,PV = 8,arme1 = cl.epee_courte_f,\\\n",
    "                         armure = cl.cuir_cloute,nom=\"gob 4\", Lvl=1, PO=5, BBA=1)\n",
    "liste1 = [[elrosgarius, 'acheve', 'tir', 0], [ysoria, 'tank', 'cac', 0]]\n",
    "liste2 = [[menelaus, 'danger', 'cac2', 0]]#,[gob1, 'acheve', 'cac', 0]]#, [gob2, 'acheve', 'cac', 0]]"
   ]
  },
  {
   "cell_type": "code",
   "execution_count": 70,
   "metadata": {},
   "outputs": [],
   "source": [
    "liste1 =[[pj.elrosgarius, 'acheve','tir', 0], [pj.ysoria, 'tank', 'cac', 0]]\n",
    "liste2 = [[pj.ysoria, 'acheve', 'cac', 0]]"
   ]
  },
  {
   "cell_type": "code",
   "execution_count": 72,
   "metadata": {},
   "outputs": [
    {
     "data": {
      "text/plain": [
       "45"
      ]
     },
     "execution_count": 72,
     "metadata": {},
     "output_type": "execute_result"
    }
   ],
   "source": [
    "liste2[0][0].PV"
   ]
  },
  {
   "cell_type": "code",
   "execution_count": null,
   "metadata": {},
   "outputs": [],
   "source": []
  },
  {
   "cell_type": "code",
   "execution_count": 76,
   "metadata": {},
   "outputs": [
    {
     "data": {
      "text/plain": [
       "0.48"
      ]
     },
     "execution_count": 76,
     "metadata": {},
     "output_type": "execute_result"
    }
   ],
   "source": [
    "monte_carlo_multiple(1000,liste1, liste2)"
   ]
  },
  {
   "cell_type": "code",
   "execution_count": 77,
   "metadata": {},
   "outputs": [
    {
     "ename": "TypeError",
     "evalue": "combat_multiple() takes 2 positional arguments but 3 were given",
     "output_type": "error",
     "traceback": [
      "\u001b[0;31m---------------------------------------------------------------------------\u001b[0m",
      "\u001b[0;31mTypeError\u001b[0m                                 Traceback (most recent call last)",
      "\u001b[0;32m<ipython-input-77-ac36739f4630>\u001b[0m in \u001b[0;36m<module>\u001b[0;34m\u001b[0m\n\u001b[0;32m----> 1\u001b[0;31m \u001b[0mcombat_multiple\u001b[0m\u001b[0;34m(\u001b[0m\u001b[0mliste1\u001b[0m\u001b[0;34m,\u001b[0m \u001b[0mliste2\u001b[0m\u001b[0;34m,\u001b[0m \u001b[0;36m10\u001b[0m\u001b[0;34m)\u001b[0m\u001b[0;34m\u001b[0m\u001b[0;34m\u001b[0m\u001b[0m\n\u001b[0m",
      "\u001b[0;31mTypeError\u001b[0m: combat_multiple() takes 2 positional arguments but 3 were given"
     ]
    }
   ],
   "source": [
    "combat_multiple(liste1, liste2, 10)"
   ]
  },
  {
   "cell_type": "code",
   "execution_count": 78,
   "metadata": {},
   "outputs": [
    {
     "data": {
      "text/plain": [
       "[<classe.Personnage at 0x7f75ec2d0240>, 'acheve', 'tir', 0]"
      ]
     },
     "execution_count": 78,
     "metadata": {},
     "output_type": "execute_result"
    }
   ],
   "source": [
    "recherche_acheve(liste1)"
   ]
  },
  {
   "cell_type": "code",
   "execution_count": 56,
   "metadata": {},
   "outputs": [],
   "source": [
    "l=liste_initiative(liste1, liste2)"
   ]
  },
  {
   "cell_type": "code",
   "execution_count": 57,
   "metadata": {},
   "outputs": [
    {
     "name": "stdout",
     "output_type": "stream",
     "text": [
      "Menelaus, 30/45\n",
      "Elrosgarius, 26/29\n",
      "##############\n",
      "Elrosgarius, 26/29\n",
      "Menelaus, 24/45\n",
      "##############\n",
      "Ysoria, 45/45\n",
      "Menelaus, 14/45\n",
      "##############\n"
     ]
    },
    {
     "data": {
      "text/plain": [
       "([[<classe.Personnage at 0x7f75ec33d1d0>, 'acheve', 'tir', 0],\n",
       "  [<classe.Personnage at 0x7f75ec33def0>, 'tank', 'cac', 0]],\n",
       " [[<classe.Personnage at 0x7f75ec33d278>, 'acheve', 'cac', 0]])"
      ]
     },
     "execution_count": 57,
     "metadata": {},
     "output_type": "execute_result"
    }
   ],
   "source": [
    "combat_round_multi(liste1,liste2)"
   ]
  },
  {
   "cell_type": "code",
   "execution_count": 91,
   "metadata": {},
   "outputs": [
    {
     "data": {
      "text/plain": [
       "(40, 44, 15)"
      ]
     },
     "execution_count": 91,
     "metadata": {},
     "output_type": "execute_result"
    }
   ],
   "source": [
    "ysoria.PV, menelaus.PV, elrosgarius.PV"
   ]
  },
  {
   "cell_type": "code",
   "execution_count": 10,
   "metadata": {},
   "outputs": [
    {
     "data": {
      "text/plain": [
       "2"
      ]
     },
     "execution_count": 10,
     "metadata": {},
     "output_type": "execute_result"
    }
   ],
   "source": [
    "l.index(max(l))"
   ]
  },
  {
   "cell_type": "code",
   "execution_count": 4,
   "metadata": {},
   "outputs": [
    {
     "data": {
      "text/plain": [
       "(20, 18)"
      ]
     },
     "execution_count": 4,
     "metadata": {},
     "output_type": "execute_result"
    }
   ],
   "source": [
    "elrosgarius.CA, ysoria.CA"
   ]
  },
  {
   "cell_type": "code",
   "execution_count": 5,
   "metadata": {},
   "outputs": [
    {
     "data": {
      "text/plain": [
       "(16, 7, False)"
      ]
     },
     "execution_count": 5,
     "metadata": {},
     "output_type": "execute_result"
    }
   ],
   "source": [
    "cb.attaque(elrosgarius, cl.epee_courte_dex, True)"
   ]
  },
  {
   "cell_type": "code",
   "execution_count": 6,
   "metadata": {},
   "outputs": [
    {
     "data": {
      "text/plain": [
       "29"
      ]
     },
     "execution_count": 6,
     "metadata": {},
     "output_type": "execute_result"
    }
   ],
   "source": [
    "elrosgarius.PV"
   ]
  },
  {
   "cell_type": "code",
   "execution_count": 7,
   "metadata": {},
   "outputs": [
    {
     "data": {
      "text/plain": [
       "(3, 1, 45)"
      ]
     },
     "execution_count": 7,
     "metadata": {},
     "output_type": "execute_result"
    }
   ],
   "source": [
    "cb.combat(ysoria, elrosgarius,[1],[2,2])"
   ]
  },
  {
   "cell_type": "code",
   "execution_count": 14,
   "metadata": {},
   "outputs": [
    {
     "data": {
      "text/plain": [
       "1.0"
      ]
     },
     "execution_count": 14,
     "metadata": {},
     "output_type": "execute_result"
    }
   ],
   "source": [
    "elrosgarius.CA=16\n",
    "elrosgarius.PV=200\n",
    "cb.monte_carlo_combat(1000,elrosgarius,ysoria,[2,2],[1],duree=True)"
   ]
  },
  {
   "cell_type": "code",
   "execution_count": 9,
   "metadata": {},
   "outputs": [
    {
     "data": {
      "text/plain": [
       "12.707"
      ]
     },
     "execution_count": 9,
     "metadata": {},
     "output_type": "execute_result"
    }
   ],
   "source": [
    "#elrosgarius.PV=600\n",
    "c=0\n",
    "for i in range(0,1000):\n",
    "    compt,v,r = cb.combat(elrosgarius,ysoria,[2,2],[1])\n",
    "    c+=compt\n",
    "c/1000"
   ]
  },
  {
   "cell_type": "code",
   "execution_count": 10,
   "metadata": {},
   "outputs": [
    {
     "data": {
      "text/plain": [
       "<classe.Personnage at 0x7fcb4c328860>"
      ]
     },
     "execution_count": 10,
     "metadata": {},
     "output_type": "execute_result"
    }
   ],
   "source": [
    "ysoria"
   ]
  },
  {
   "cell_type": "code",
   "execution_count": 11,
   "metadata": {},
   "outputs": [
    {
     "ename": "NameError",
     "evalue": "name 'duree_combat' is not defined",
     "output_type": "error",
     "traceback": [
      "\u001b[0;31m---------------------------------------------------------------------------\u001b[0m",
      "\u001b[0;31mNameError\u001b[0m                                 Traceback (most recent call last)",
      "\u001b[0;32m<ipython-input-11-518cab48559c>\u001b[0m in \u001b[0;36m<module>\u001b[0;34m\u001b[0m\n\u001b[1;32m      4\u001b[0m     \u001b[0mc\u001b[0m\u001b[0;34m=\u001b[0m\u001b[0;36m0\u001b[0m\u001b[0;34m\u001b[0m\u001b[0;34m\u001b[0m\u001b[0m\n\u001b[1;32m      5\u001b[0m     \u001b[0;32mfor\u001b[0m \u001b[0mj\u001b[0m \u001b[0;32min\u001b[0m \u001b[0mrange\u001b[0m\u001b[0;34m(\u001b[0m\u001b[0;36m0\u001b[0m\u001b[0;34m,\u001b[0m\u001b[0;36m50\u001b[0m\u001b[0;34m)\u001b[0m\u001b[0;34m:\u001b[0m\u001b[0;34m\u001b[0m\u001b[0;34m\u001b[0m\u001b[0m\n\u001b[0;32m----> 6\u001b[0;31m         \u001b[0mc\u001b[0m\u001b[0;34m+=\u001b[0m\u001b[0mduree_combat\u001b[0m\u001b[0;34m(\u001b[0m\u001b[0mysoria\u001b[0m\u001b[0;34m,\u001b[0m\u001b[0melrosgarius\u001b[0m\u001b[0;34m,\u001b[0m\u001b[0mfaux\u001b[0m\u001b[0;34m,\u001b[0m\u001b[0mepee_courte_f\u001b[0m\u001b[0;34m,\u001b[0m\u001b[0;32mTrue\u001b[0m\u001b[0;34m)\u001b[0m\u001b[0;34m\u001b[0m\u001b[0;34m\u001b[0m\u001b[0m\n\u001b[0m\u001b[1;32m      7\u001b[0m     \u001b[0mlpour\u001b[0m\u001b[0;34m.\u001b[0m\u001b[0mappend\u001b[0m\u001b[0;34m(\u001b[0m\u001b[0mc\u001b[0m\u001b[0;34m/\u001b[0m\u001b[0;36m50\u001b[0m\u001b[0;34m)\u001b[0m\u001b[0;34m\u001b[0m\u001b[0;34m\u001b[0m\u001b[0m\n",
      "\u001b[0;31mNameError\u001b[0m: name 'duree_combat' is not defined"
     ]
    }
   ],
   "source": [
    "lpour=[]\n",
    "for i in range(20,1000):\n",
    "    elrosgarius.PV=i\n",
    "    c=0\n",
    "    for j in range(0,50):\n",
    "        c+=duree_combat(ysoria,elrosgarius,faux,epee_courte_f,True)\n",
    "    lpour.append(c/50)"
   ]
  },
  {
   "cell_type": "code",
   "execution_count": null,
   "metadata": {},
   "outputs": [],
   "source": [
    "import matplotlib.pyplot as plt\n",
    "plt.plot(lpour)"
   ]
  },
  {
   "cell_type": "code",
   "execution_count": null,
   "metadata": {},
   "outputs": [],
   "source": [
    "4750\n",
    "2000\n",
    "\n",
    "6000\n",
    "1500"
   ]
  },
  {
   "cell_type": "code",
   "execution_count": null,
   "metadata": {},
   "outputs": [],
   "source": []
  },
  {
   "cell_type": "code",
   "execution_count": null,
   "metadata": {},
   "outputs": [],
   "source": []
  },
  {
   "cell_type": "code",
   "execution_count": null,
   "metadata": {},
   "outputs": [],
   "source": []
  },
  {
   "cell_type": "code",
   "execution_count": null,
   "metadata": {},
   "outputs": [],
   "source": []
  },
  {
   "cell_type": "code",
   "execution_count": null,
   "metadata": {},
   "outputs": [],
   "source": []
  }
 ],
 "metadata": {
  "kernelspec": {
   "display_name": "Python 3",
   "language": "python",
   "name": "python3"
  },
  "language_info": {
   "codemirror_mode": {
    "name": "ipython",
    "version": 3
   },
   "file_extension": ".py",
   "mimetype": "text/x-python",
   "name": "python",
   "nbconvert_exporter": "python",
   "pygments_lexer": "ipython3",
   "version": "3.7.3"
  }
 },
 "nbformat": 4,
 "nbformat_minor": 4
}
